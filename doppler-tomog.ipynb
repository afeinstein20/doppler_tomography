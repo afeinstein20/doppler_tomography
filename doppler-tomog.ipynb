{
 "cells": [
  {
   "cell_type": "markdown",
   "metadata": {},
   "source": [
    "- template spectrum (median from all frames) interpolated to a finer (x 10) resolution\n",
    "\n",
    "- sample each individual spectrum at same finer resolution\n",
    "\n",
    "- cross correlation between the two (y-axis centered on 0)"
   ]
  },
  {
   "cell_type": "code",
   "execution_count": 165,
   "metadata": {},
   "outputs": [],
   "source": [
    "import numpy as np\n",
    "from math import log10\n",
    "import matplotlib.pyplot as plt\n",
    "from scipy.interpolate import interp1d\n",
    "from astropy.time import Time\n",
    "from scipy.signal import correlate\n",
    "from tqdm import tqdm_notebook\n",
    "\n",
    "plt.rcParams['font.size'] = 18"
   ]
  },
  {
   "cell_type": "code",
   "execution_count": 2,
   "metadata": {},
   "outputs": [
    {
     "name": "stderr",
     "output_type": "stream",
     "text": [
      "WARNING: leap-second auto-update failed due to the following exception: RuntimeError('attempted to use clear_download_cache on the path //anaconda3/lib/python3.7/site-packages/astropy/utils/iers/data/Leap_Second.dat outside the data cache directory /Users/arcticfox/.astropy/cache/download/py3') [astropy.time.core]\n"
     ]
    }
   ],
   "source": [
    "WAVELENGTHS = np.load('interp_1d_wavelength.npy', allow_pickle=True)\n",
    "SPECTRA = np.load('interp_1d_spectra.npy', allow_pickle=True)\n",
    "TIMES = Time(np.load('mjddates.npy', allow_pickle=True), format='mjd').jd\n",
    "\n",
    "BOTH = np.where(TIMES<=2458870.762)[0]\n",
    "TRANSIT_C = np.where( (TIMES>2458870.762) & (TIMES<=2458870.941))[0]\n",
    "OUT = np.where( TIMES>2458870.941)[0]"
   ]
  },
  {
   "cell_type": "code",
   "execution_count": 183,
   "metadata": {},
   "outputs": [],
   "source": [
    "template = np.nanmedian(SPECTRA, axis=0)"
   ]
  },
  {
   "cell_type": "code",
   "execution_count": 59,
   "metadata": {},
   "outputs": [],
   "source": [
    "def grid_wavelength(wavelength, spectra, factor):\n",
    "    \n",
    "    interp_waves = np.zeros((wavelength.shape[0], wavelength.shape[1]*factor))\n",
    "    interp_spect = np.zeros((spectra.shape[0], spectra.shape[1]*factor))\n",
    "    \n",
    "    start = wavelength[:,0]\n",
    "    end = wavelength[:,-1]\n",
    "\n",
    "    redstart = np.nanmax(start)\n",
    "    blueend  = np.nanmin(end)\n",
    "\n",
    "    finer_wavelength = np.logspace(log10(redstart), log10(blueend),\n",
    "                                   wavelength.shape[1]*factor, base=10.0)\n",
    "    finer_wavelength[0] = redstart\n",
    "    \n",
    "    for i in range(len(wavelength)):\n",
    "        f = interp1d(wavelength[i], spectra[i])\n",
    "        interp_spect[i] = f(finer_wavelength)\n",
    "        interp_waves[i] = finer_wavelength\n",
    "    return interp_waves, interp_spect"
   ]
  },
  {
   "cell_type": "code",
   "execution_count": null,
   "metadata": {},
   "outputs": [],
   "source": [
    "def fit_maximum(wave, spectra, order, region):\n",
    "\n",
    "    wave_reg = wave[10][order][region]\n",
    "    \n",
    "    plt.plot(wave[10][order], spectra[10][order])\n",
    "    plt.xlim([wave_reg[0], wave_reg[-1]])\n",
    "    \n",
    "    x = np.arange(wave_reg[0], wave_reg[-1], 0.001)\n",
    "    fit = np.polyfit(wave[10][order][region], \n",
    "                     np.nanmedian(spectra[:,order,region], axis=0), deg=2)\n",
    "    model = np.poly1d(fit)\n",
    "    model_tip = model(x)\n",
    "    \n",
    "    plt.plot(x, model_tip, 'k')\n",
    "    plt.plot(x[np.argmin(model_tip)], model_tip[np.argmin(model_tip)], 'ro')\n",
    "    plt.title(x[np.argmin(model_tip)])\n",
    "    plt.show()\n",
    "    \n",
    "    return x[np.argmin(model_tip)]"
   ]
  },
  {
   "cell_type": "code",
   "execution_count": 68,
   "metadata": {},
   "outputs": [],
   "source": [
    "factor = 20\n",
    "interp_wave = np.zeros((SPECTRA.shape[0], SPECTRA.shape[1], SPECTRA.shape[2]*factor))\n",
    "interp_spec = np.zeros((SPECTRA.shape[0], SPECTRA.shape[1], SPECTRA.shape[2]*factor))\n",
    "\n",
    "temp_interp_wave = np.zeros((SPECTRA.shape[1], SPECTRA.shape[2]*factor))\n",
    "temp_interp_spec = np.zeros((SPECTRA.shape[1], SPECTRA.shape[2]*factor))\n",
    "\n",
    "for i, order in enumerate(range(WAVELENGTHS.shape[1])):\n",
    "    iw, iss = grid_wavelength(WAVELENGTHS[:,order], SPECTRA[:,order], factor)\n",
    "    interp_wave[:,i] = iw\n",
    "    interp_spec[:,i] = iss"
   ]
  },
  {
   "cell_type": "code",
   "execution_count": 113,
   "metadata": {},
   "outputs": [],
   "source": [
    "for i, order in enumerate(range(template.shape[0])):\n",
    "    finer_wavelength = np.logspace(log10(np.nanmin(WAVELENGTHS[0][order])), \n",
    "                                   log10(np.nanmax(WAVELENGTHS[0][order])),\n",
    "                                   WAVELENGTHS[0].shape[1]*factor, base=10.0)\n",
    "    finer_wavelength[0] = np.nanmin(WAVELENGTHS[0][order][0])\n",
    "    f = interp1d(WAVELENGTHS[0][order], template[order])\n",
    "    \n",
    "    temp_interp_wave[i] = finer_wavelength\n",
    "    temp_interp_spec[i] = f(finer_wavelength)"
   ]
  },
  {
   "cell_type": "markdown",
   "metadata": {},
   "source": [
    "## Perform cross correlation for each order"
   ]
  },
  {
   "cell_type": "code",
   "execution_count": 164,
   "metadata": {},
   "outputs": [],
   "source": [
    "cross_corr = np.zeros((interp_spec.shape[0], interp_spec.shape[2]))"
   ]
  },
  {
   "cell_type": "code",
   "execution_count": 167,
   "metadata": {},
   "outputs": [
    {
     "data": {
      "application/vnd.jupyter.widget-view+json": {
       "model_id": "dec3ffa0dc02441b906b21ff11d3d223",
       "version_major": 2,
       "version_minor": 0
      },
      "text/plain": [
       "HBox(children=(IntProgress(value=0, max=56), HTML(value='')))"
      ]
     },
     "metadata": {},
     "output_type": "display_data"
    },
    {
     "name": "stdout",
     "output_type": "stream",
     "text": [
      "\n"
     ]
    }
   ],
   "source": [
    " for i in tqdm_notebook(range(interp_spec.shape[0])):\n",
    "    corr = correlate(temp_interp_spec[HALPHA_ORDER] - np.nanmedian(temp_interp_spec[HALPHA_ORDER]), \n",
    "                     interp_spec[i][HALPHA_ORDER] - np.nanmedian(interp_spec[i][HALPHA_ORDER]), \n",
    "                     mode='same', method='direct')\n",
    "    cross_corr[i] = corr"
   ]
  },
  {
   "cell_type": "code",
   "execution_count": 210,
   "metadata": {},
   "outputs": [],
   "source": [
    "HALPHA_ORDER = 11\n",
    "HALPHA_REGION = np.where( (temp_interp_wave[HALPHA_ORDER] >= 655.6) & \n",
    "                          (temp_interp_wave[HALPHA_ORDER] <= 656.7) )[0]\n",
    "\n",
    "peaks = np.argmax(cross_corr, axis=1)"
   ]
  },
  {
   "cell_type": "code",
   "execution_count": 212,
   "metadata": {},
   "outputs": [
    {
     "data": {
      "image/png": "[encoded data removed]",
      "text/plain": [
       "<Figure size 432x288 with 1 Axes>"
      ]
     },
     "metadata": {
      "needs_background": "light"
     },
     "output_type": "display_data"
    }
   ],
   "source": [
    "plt.plot(peaks);"
   ]
  },
  {
   "cell_type": "code",
   "execution_count": null,
   "metadata": {},
   "outputs": [],
   "source": []
  }
 ],
 "metadata": {
  "kernelspec": {
   "display_name": "Python 3",
   "language": "python",
   "name": "python3"
  },
  "language_info": {
   "codemirror_mode": {
    "name": "ipython",
    "version": 3
   },
   "file_extension": ".py",
   "mimetype": "text/x-python",
   "name": "python",
   "nbconvert_exporter": "python",
   "pygments_lexer": "ipython3",
   "version": "3.7.3"
  }
 },
 "nbformat": 4,
 "nbformat_minor": 2
}
