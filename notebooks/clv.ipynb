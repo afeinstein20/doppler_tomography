{
 "cells": [
  {
   "cell_type": "code",
   "execution_count": 12,
   "metadata": {},
   "outputs": [],
   "source": [
    "import numpy as np\n",
    "import matplotlib.pyplot as plt\n",
    "\n",
    "import warnings\n",
    "warnings.filterwarnings(\"ignore\")\n",
    "\n",
    "import os\n",
    "import numpy as np\n",
    "import pandas as pd\n",
    "from astropy.time import Time\n",
    "import matplotlib.pyplot as plt\n",
    "from astropy.table import Table, Column\n",
    "from photutils import CircularAperture, aperture_photometry\n",
    "from matplotlib.colors import LinearSegmentedColormap\n",
    "from tqdm import tqdm_notebook\n",
    "\n",
    "plt.rcParams['axes.linewidth']=3\n",
    "plt.rcParams['xtick.major.width'] = 2\n",
    "plt.rcParams['ytick.major.width'] = 2\n",
    "plt.rcParams['xtick.minor.width'] = 2\n",
    "plt.rcParams['ytick.minor.width'] = 2\n",
    "plt.rcParams['xtick.major.size'] = 10\n",
    "plt.rcParams['ytick.major.size'] = 10\n",
    "plt.rcParams['xtick.minor.size'] = 3\n",
    "plt.rcParams['ytick.minor.size'] = 3\n",
    "plt.rc('xtick.major', size=8, pad=8)\n",
    "plt.rc('xtick.minor', size=6, pad=5)\n",
    "plt.rc('ytick.major', size=8, pad=8)\n",
    "plt.rc('ytick.minor', size=6, pad=5)\n",
    "plt.rcParams['font.size'] = 18\n",
    "\n",
    "\n",
    "parula_colors = np.load('/Users/arcticfox/parula_colors.npy')"
   ]
  },
  {
   "cell_type": "code",
   "execution_count": 2,
   "metadata": {},
   "outputs": [],
   "source": [
    "def feature_tab(element):\n",
    "\n",
    "    files = np.sort([i for i in os.listdir('.') if i.endswith(element)])[1:]\n",
    "\n",
    "    tab = Table()\n",
    "    limb_vals = np.array([], dtype='U10')\n",
    "\n",
    "    for i in tqdm_notebook(range(len(files))):\n",
    "        dat = np.loadtxt(files[i])\n",
    "        if len(dat) > 0:\n",
    "        \n",
    "            val = files[i].split('.')[0][-3:]\n",
    "\n",
    "            key = 'limb_' + val\n",
    "\n",
    "            if i == 0:\n",
    "                tab.add_column(Column(dat[:,0], 'wavelength'))\n",
    "\n",
    "            if len(dat[:,1]) == 55006 and element=='halpha':\n",
    "                tab.add_column(Column(dat[:,1], key))\n",
    "                limb_vals = np.append(limb_vals, val)\n",
    "            elif len(dat[:,1]) == 115000 and element=='calcium':\n",
    "                tab.add_column(Column(dat[:,1], key))\n",
    "                limb_vals = np.append(limb_vals, val)\n",
    "    \n",
    "    return tab, limb_vals"
   ]
  },
  {
   "cell_type": "code",
   "execution_count": 3,
   "metadata": {},
   "outputs": [],
   "source": [
    "def feature_region(tab, wstart, wstop):\n",
    "    return tab[(tab['wavelength']>=wstart) & \n",
    "               (tab['wavelength']<=wstop)]"
   ]
  },
  {
   "cell_type": "code",
   "execution_count": 4,
   "metadata": {},
   "outputs": [],
   "source": [
    "def discrete_star(res, limb_vals):\n",
    "\n",
    "    x = np.linspace(-1.0, 1.0, res)\n",
    "    y = np.linspace(-1.0, 1.0, res)\n",
    "\n",
    "    z = np.ones(res**2).reshape(res,res)\n",
    "\n",
    "    xx, yy = np.meshgrid(x, y, sparse=True)\n",
    "\n",
    "    r = np.sqrt(xx**2 + yy**2)\n",
    "    z[r >1] = 0\n",
    "\n",
    "    lat = np.arcsin(yy)\n",
    "    lon = np.arcsin(xx)\n",
    "\n",
    "    v_diffrot = 100*z*np.cos(lat)*np.sin(lon) *np.cos(lat/1.0)\n",
    "    v = 100*z*np.cos(lat)*np.sin(lon)\n",
    "\n",
    "    limb = 1.0*(1-0.64*(1-np.cos(r*np.pi/2)))\n",
    "    limb[r>1] = 0\n",
    "\n",
    "    discrete_limb = np.zeros(limb.shape)\n",
    "\n",
    "    for i in range(len(limb_vals)-1):\n",
    "        discrete_limb[(limb >= float(limb_vals[i])) & \n",
    "                      (limb <  float(limb_vals[i+1]))] = float(limb_vals[i])\n",
    "        \n",
    "    return discrete_limb"
   ]
  },
  {
   "cell_type": "code",
   "execution_count": 8,
   "metadata": {},
   "outputs": [
    {
     "data": {
      "application/vnd.jupyter.widget-view+json": {
       "model_id": "9545dcbfda9f48bb9b4592e359b77777",
       "version_major": 2,
       "version_minor": 0
      },
      "text/plain": [
       "HBox(children=(IntProgress(value=0, max=60), HTML(value='')))"
      ]
     },
     "metadata": {},
     "output_type": "display_data"
    },
    {
     "name": "stdout",
     "output_type": "stream",
     "text": [
      "\n"
     ]
    }
   ],
   "source": [
    "tab, limb_vals = feature_tab(element='calcium')\n",
    "limb_vals = np.sort([int(i)/100 for i in limb_vals])\n",
    "#tab = feature_region(tab, 8494, 8510)\n",
    "#tab = feature_region(tab, 6560, 6566)"
   ]
  },
  {
   "cell_type": "code",
   "execution_count": null,
   "metadata": {},
   "outputs": [],
   "source": [
    "tab[0]['wavelength'], tab[-1]['wavelength']"
   ]
  },
  {
   "cell_type": "code",
   "execution_count": null,
   "metadata": {},
   "outputs": [],
   "source": [
    "plt.plot(tab['wavelength'], tab['limb_010'])\n",
    "plt.xlim(8493, 8503)\n",
    "plt.ylim(0.4,1.0)\n",
    "tab = feature_region(tab, 8493, 8503)"
   ]
  },
  {
   "cell_type": "code",
   "execution_count": null,
   "metadata": {},
   "outputs": [],
   "source": [
    "rstar_pixel = 20001\n",
    "\n",
    "discrete_limb = discrete_star(rstar_pixel, limb_vals)"
   ]
  },
  {
   "cell_type": "markdown",
   "metadata": {},
   "source": [
    "# up the resolution of the spectra"
   ]
  },
  {
   "cell_type": "code",
   "execution_count": null,
   "metadata": {},
   "outputs": [],
   "source": [
    "rstar = discrete_limb.shape[0]/2.0\n",
    "astar = np.pi * rstar**2\n",
    "\n",
    "rplanet = 0.0300  * rstar\n",
    "aplanet = np.pi * rplanet**2\n",
    "\n",
    "psize = aplanet/astar * discrete_limb.shape[0] # radius of planet in pixel space\n",
    "psize = np.ceil(psize)\n",
    "psize"
   ]
  },
  {
   "cell_type": "code",
   "execution_count": null,
   "metadata": {},
   "outputs": [],
   "source": [
    "# Takes a slice of the star at the equator\n",
    "sliced = discrete_limb[int(rstar_pixel/2)-1:int(rstar_pixel/2), :int(rstar_pixel/2)] + 0.0\n",
    "sliced = np.reshape(sliced, sliced.shape[1])\n",
    "sliced.shape"
   ]
  },
  {
   "cell_type": "code",
   "execution_count": null,
   "metadata": {},
   "outputs": [],
   "source": [
    "def create_features(dat, planetsize):\n",
    "\n",
    "    unique_vals = np.unique(dat)\n",
    "    areas = np.zeros(len(unique_vals))\n",
    "    for i in range(len(unique_vals)):\n",
    "        where = np.where(np.flip(dat)==unique_vals[i])[0] \n",
    "        areas[i] = np.pi * (np.nanmax(where)**2 - np.nanmin(where)**2)\n",
    "    \n",
    "    spec_timesteps = np.zeros((len(dat)+19, len(tab)))\n",
    "\n",
    "    for i in tqdm_notebook(range(len(dat)+19)):\n",
    "\n",
    "        mask = np.zeros(dat.shape)\n",
    "\n",
    "        if i < psize:\n",
    "            start = 0\n",
    "            end = i\n",
    "        else:\n",
    "            start = int(i-planetsize/2)-8\n",
    "            end = int(i+planetsize/2+1)-10\n",
    "\n",
    "        if start < 0:\n",
    "            start = 0\n",
    "\n",
    "        if end > len(dat):\n",
    "            end = len(dat)\n",
    "        mask[start:end] = 1\n",
    "\n",
    "        # Applies mask\n",
    "        q = mask == 0\n",
    "        masked_slice = dat[q]\n",
    "\n",
    "        weights = np.zeros(len(unique_vals))\n",
    "\n",
    "        # Gets weights per each limb darkening value\n",
    "        # Multiplies by area of ring for that limb darkening val\n",
    "        for u in range(len(unique_vals)):\n",
    "            where = np.where(masked_slice==unique_vals[u])[0]\n",
    "            weights[u] = len(where) * areas[u]\n",
    "\n",
    "        # Normalizes weights\n",
    "        weights = weights/ np.nansum(weights)\n",
    "\n",
    "        spec = np.zeros(len(tab))\n",
    "\n",
    "        # Adds together spectra multiplied by appropriate weight\n",
    "        for u in range(len(weights)):\n",
    "            spec += (tab[tab.colnames[u+8]] * weights[u])\n",
    "        spec_timesteps[i] = spec\n",
    "\n",
    "    return spec_timesteps, unique_vals, areas, weights"
   ]
  },
  {
   "cell_type": "code",
   "execution_count": null,
   "metadata": {},
   "outputs": [],
   "source": [
    "spec_timesteps, unique_vals, areas, weights = create_features(sliced, psize)"
   ]
  },
  {
   "cell_type": "code",
   "execution_count": null,
   "metadata": {},
   "outputs": [],
   "source": [
    "template_weights = np.zeros(len(unique_vals))\n",
    "for u in range(len(unique_vals)):\n",
    "    where = np.where(sliced==unique_vals[u])[0]\n",
    "    template_weights[u] = len(where) * areas[u]\n",
    "template_weights = template_weights/np.nansum(template_weights)\n",
    "\n",
    "template = np.zeros(len(tab))\n",
    "    \n",
    "for u in range(len(weights)):\n",
    "    template += (tab[tab.colnames[u+8]] * template_weights[u])"
   ]
  },
  {
   "cell_type": "code",
   "execution_count": null,
   "metadata": {},
   "outputs": [],
   "source": [
    "diff = np.rot90((spec_timesteps-template))*10**4\n",
    "\n",
    "plt.imshow( diff[1000:4000,:], cmap='seismic', vmin=-0.4, vmax=0.4)\n",
    "plt.colorbar(label='diff x $10^{4}$')\n",
    "plt.xlabel('\"time\"')\n",
    "plt.ylabel('spectrum - template')\n",
    "#plt.xlim(0,40)\n",
    "#plt.ylim(1400,1800)\n",
    "#plt.savefig('/Users/arcticfox/Desktop/by_ring_highres_calcium_zoomin.png',\n",
    "#            rasterize=True, bbox_inches='tight', dpi=250)"
   ]
  },
  {
   "cell_type": "markdown",
   "metadata": {},
   "source": [
    "# Paper plot"
   ]
  },
  {
   "cell_type": "code",
   "execution_count": 9,
   "metadata": {},
   "outputs": [],
   "source": [
    "from pylab import *\n",
    "colormap='YlOrRd_r'\n",
    "\n",
    "cmap = cm.get_cmap(colormap, 20)\n",
    "\n",
    "colors = []\n",
    "for i in range(cmap.N):\n",
    "    rgb = cmap(i)[:3]\n",
    "    colors.append(matplotlib.colors.rgb2hex(rgb))\n",
    "colors = np.array(colors)\n",
    "\n",
    "def hex_to_rgb(h):\n",
    "    if '#' in h:\n",
    "        h = h.lstrip('#')   \n",
    "    hlen = int(len(h))\n",
    "    rgb = tuple(int(h[i:int(i+hlen/3)], 16) / 255.0 for i in range(0, hlen, int(hlen/3)))\n",
    "    return rgb\n",
    "\n",
    "\n",
    "clist = ['#000000', colors[5], colors[10]]\n",
    "\n",
    "rgb_tuples = []\n",
    "\n",
    "for c in clist:\n",
    "    rgb_tuples.append(hex_to_rgb(c))\n",
    "\n",
    "cm = LinearSegmentedColormap.from_list(\n",
    "        'sequential', rgb_tuples, N=2048)\n",
    "\n",
    "\n",
    "colors = []\n",
    "for i in range(cm.N):\n",
    "    rgb = cm(i)[:3]\n",
    "    colors.append(matplotlib.colors.rgb2hex(rgb))\n",
    "colors = np.array(colors)\n",
    "\n",
    "colors = np.unique(colors)\n",
    "colors = colors[np.linspace(0,len(colors)-1,len(tab.colnames)-8,dtype=int)]"
   ]
  },
  {
   "cell_type": "code",
   "execution_count": 10,
   "metadata": {},
   "outputs": [],
   "source": [
    "plotting_limb_0 = discrete_star(3001, limb_vals)\n",
    "\n",
    "plotting_limb = np.full(plotting_limb_0.shape, np.nan)\n",
    "x,y = np.where(plotting_limb_0!=0)\n",
    "plotting_limb[x,y] = plotting_limb_0[x,y]"
   ]
  },
  {
   "cell_type": "code",
   "execution_count": 13,
   "metadata": {},
   "outputs": [
    {
     "data": {
      "image/png": "[encoded data removed]",
      "text/plain": [
       "<Figure size 1008x324 with 3 Axes>"
      ]
     },
     "metadata": {
      "needs_background": "light"
     },
     "output_type": "display_data"
    }
   ],
   "source": [
    "fig, (ax1, ax2) = plt.subplots(ncols=2, figsize=(14,4.5),\n",
    "                               gridspec_kw={'width_ratios':[1,1.8]})\n",
    "\n",
    "\n",
    "im = ax1.contourf(plotting_limb, 100, cmap=cm)\n",
    "ax1.set_xticks([]);ax1.set_yticks([])\n",
    "\n",
    "\n",
    "axins = ax2.inset_axes([0.04, 0.06, 0.3, 0.4])\n",
    "axins.set_xticks([]);axins.set_yticks([])\n",
    "\n",
    "for i in range(len(colors)):\n",
    "    ax2.plot(tab['wavelength']/10, tab[tab.colnames[i+2]], c=colors[i],\n",
    "             lw=2)\n",
    "    axins.plot(tab['wavelength']/10, tab[tab.colnames[i+2]], c=colors[i],\n",
    "             lw=2)\n",
    "\n",
    "axins.set_xlim(849.75, 849.85)\n",
    "axins.set_ylim(0.45,0.55)\n",
    "ax2.indicate_inset_zoom(axins)\n",
    "ax2.set_xlabel('Wavelength [nm]', fontsize=20)\n",
    "ax2.set_ylabel('Normalized Flux', fontsize=20)\n",
    "ax1.set_title('Discrete Stellar Disk')\n",
    "ax2.set_xlim(849.4,850.2)\n",
    "cbar = plt.colorbar(im)\n",
    "cbar.set_label('Limb Darkening Angle', fontsize=20)\n",
    "cbar.set_ticks(np.round(np.arange(0.35, 1.1, 0.15),2))\n",
    "\n",
    "ax1.set_rasterized(True)\n",
    "ax2.set_rasterized(True)\n",
    "\n",
    "plt.subplots_adjust(wspace=0.3)\n",
    "plt.savefig('/Users/arcticfox/Documents/atmospheres/v1298tau/figures/clvs.pdf',\n",
    "            rasterize=True, bbox_inches='tight', dpi=250)"
   ]
  },
  {
   "cell_type": "markdown",
   "metadata": {},
   "source": [
    "# Making the movie"
   ]
  },
  {
   "cell_type": "code",
   "execution_count": null,
   "metadata": {},
   "outputs": [],
   "source": [
    "plt.rcParams['font.size'] = 15"
   ]
  },
  {
   "cell_type": "code",
   "execution_count": null,
   "metadata": {
    "scrolled": true
   },
   "outputs": [],
   "source": [
    "for i in range(35,55):\n",
    "\n",
    "    fig, (ax1, ax2) = plt.subplots(ncols=2, \n",
    "                                   gridspec_kw={'width_ratios':[1,1.8]},\n",
    "                                   figsize=(12,4))\n",
    "\n",
    "    ax1.imshow(discrete_limb, cmap='YlOrRd_r')\n",
    "    ax1.imshow(all_masks[i], cmap='Greys_r')\n",
    "    ax1.set_xticks([]); ax1.set_yticks([])\n",
    "    \n",
    "    med = spec_timesteps[i]/np.nanmedian(spec_timesteps[i])\n",
    "\n",
    "    if i != 0 and i != len(tsteps)-1:\n",
    "        diff = -1* (spec_timesteps[i] - template)\n",
    "        ax2.plot(tab['wavelength'], \n",
    "                 diff/np.nanmedian(diff),\n",
    "                 color='k', lw=4)\n",
    "    else:\n",
    "        ax2.plot(tab['wavelength'],\n",
    "                 template/np.nanmedian(template),\n",
    "                 color='k', lw=4)\n",
    "   # ax2.plot(tab['wavelength'], \n",
    "   #              template/np.nanmedian(template), \n",
    "   #              color='k', lw=2)\n",
    "    ax2.set_xlim(6561.8,6563.95)\n",
    "    ax2.set_ylim(0.5,1.0)\n",
    "    ax2.set_xlabel('Wavelength [nm]')\n",
    "    ax2.set_ylabel('Normalized Flux')\n",
    "    ax2.set_xticks(np.round(np.linspace(6561.8,6563.95,4),2))\n",
    "    plt.subplots_adjust(wspace=0.3)\n",
    "    plt.show()"
   ]
  },
  {
   "cell_type": "code",
   "execution_count": null,
   "metadata": {},
   "outputs": [],
   "source": [
    "np.nanmedian(diff)"
   ]
  },
  {
   "cell_type": "code",
   "execution_count": null,
   "metadata": {
    "scrolled": true
   },
   "outputs": [],
   "source": [
    "fig, (ax1, ax2) = plt.subplots(ncols=2, \n",
    "                               gridspec_kw={'width_ratios':[1,1.8]},\n",
    "                               figsize=(12,4))\n",
    "# X is (Nt, Ny, Nx)\n",
    "im = ax1.imshow(discrete_limb, cmap='YlOrRd_r')\n",
    "fig.tight_layout()\n",
    "ax1.set_xticks([]); ax1.set_yticks([])\n",
    "ax2.set_xlim(6561.8,6563.95)\n",
    "ax2.set_ylim(0.5,1.0)\n",
    "ax2.set_xlabel('Wavelength [nm]')\n",
    "ax2.set_ylabel('Normalized Flux')\n",
    "ax2.set_xticks(np.round(np.linspace(6561.8,6563.95,4),2))\n",
    "\n",
    "\n",
    "def animate(i):\n",
    "    if i > 0:\n",
    "        ax2.clear()\n",
    "    ax1.imshow(discrete_limb, cmap='YlOrRd_r')\n",
    "    ax1.imshow(all_masks[i], cmap='Greys_r')\n",
    "    diff = -1* (spec_timesteps[i] - template)\n",
    "    \n",
    "    if np.nanmedian(diff) == 0:\n",
    "        ax2.plot(tab['wavelength'],\n",
    "                 template / np.nanmedian(template),\n",
    "                 color='k', lw=3)\n",
    "    else:\n",
    "        ax2.plot(tab['wavelength'],\n",
    "                     diff / np.nanmedian(diff),\n",
    "                     color='k', lw=3)\n",
    "    ax2.set_xlim(6561.8,6563.95)\n",
    "    ax2.set_ylim(0.5,1.0)\n",
    "    ax2.set_xlabel('Wavelength [nm]')\n",
    "    ax2.set_ylabel('Normalized Flux')\n",
    "    ax2.set_xticks(np.round(np.linspace(6561.8,6563.95,4),2))\n",
    "    return im,\n",
    "\n",
    "#ax1.set_xticks([]); ax1.set_yticks([])\n",
    "\n",
    "anim = FuncAnimation(fig, animate, \n",
    "                     frames=np.arange(0, len(all_masks), 1), \n",
    "                     blit=True, interval=60)\n",
    "HTML(anim.to_jshtml())"
   ]
  },
  {
   "cell_type": "code",
   "execution_count": null,
   "metadata": {},
   "outputs": [],
   "source": [
    "import matplotlib.animation as animation\n",
    "Writer = animation.writers['ffmpeg']\n",
    "writer = Writer(fps=15, metadata=dict(artist='Me'), bitrate=1800)"
   ]
  },
  {
   "cell_type": "code",
   "execution_count": null,
   "metadata": {},
   "outputs": [],
   "source": [
    "anim.save('/Users/arcticfox/Desktop/clv.mp4', writer=writer)"
   ]
  },
  {
   "cell_type": "code",
   "execution_count": null,
   "metadata": {},
   "outputs": [],
   "source": []
  }
 ],
 "metadata": {
  "anaconda-cloud": {},
  "kernelspec": {
   "display_name": "Python 3",
   "language": "python",
   "name": "python3"
  },
  "language_info": {
   "codemirror_mode": {
    "name": "ipython",
    "version": 3
   },
   "file_extension": ".py",
   "mimetype": "text/x-python",
   "name": "python",
   "nbconvert_exporter": "python",
   "pygments_lexer": "ipython3",
   "version": "3.7.3"
  }
 },
 "nbformat": 4,
 "nbformat_minor": 2
}
