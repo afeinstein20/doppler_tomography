{
 "cells": [
  {
   "cell_type": "code",
   "execution_count": 1,
   "metadata": {},
   "outputs": [
    {
     "name": "stderr",
     "output_type": "stream",
     "text": [
      "WARNING: leap-second auto-update failed due to the following exception: RuntimeError('attempted to use clear_download_cache on the path //anaconda3/lib/python3.7/site-packages/astropy/utils/iers/data/Leap_Second.dat outside the data cache directory /Users/arcticfox/.astropy/cache/download/py3') [astropy.time.core]\n"
     ]
    }
   ],
   "source": [
    "import os\n",
    "import numpy as np\n",
    "import matplotlib.pyplot as plt\n",
    "from astropy.time import Time\n",
    "from astropy import units as u\n",
    "from scipy.interpolate import interp1d\n",
    "from astropy.coordinates import SpectralCoord\n",
    "\n",
    "from pylab import *\n",
    "colormap='viridis'\n",
    "\n",
    "cmap = cm.get_cmap(colormap, 53)\n",
    "colors = []\n",
    "for i in range(cmap.N):\n",
    "    rgb = cmap(i)[:3]\n",
    "    colors.append(matplotlib.colors.rgb2hex(rgb))\n",
    "colors = np.array(colors)\n",
    "\n",
    "plt.rcParams['font.size'] = 18\n",
    "\n",
    "path = '/Users/arcticfox/Documents/atmospheres/v1298tau'"
   ]
  },
  {
   "cell_type": "code",
   "execution_count": 6,
   "metadata": {},
   "outputs": [],
   "source": [
    "WAVELENGTHS = np.load(os.path.join(path, 'interp_1d_wavelength.npy'), allow_pickle=True)\n",
    "ORDERS = np.load(os.path.join(path,'interp_1d_orders.npy'), allow_pickle=True)\n",
    "SPECTRA = np.load(os.path.join(path,'interp_1d_spectra.npy'), allow_pickle=True)\n",
    "TIMES = Time(np.load(os.path.join(path,'mjddates.npy'), allow_pickle=True), format='mjd').jd"
   ]
  },
  {
   "cell_type": "code",
   "execution_count": 3,
   "metadata": {},
   "outputs": [],
   "source": [
    "BOTH = np.where(TIMES<=2458870.762)[0]\n",
    "TRANSIT_C = np.where( (TIMES>2458870.762) & (TIMES<=2458870.941))[0]\n",
    "OUT = np.where( TIMES>2458870.941)[0]"
   ]
  },
  {
   "cell_type": "code",
   "execution_count": 5,
   "metadata": {},
   "outputs": [
    {
     "data": {
      "text/plain": [
       "array([], dtype=float64)"
      ]
     },
     "execution_count": 5,
     "metadata": {},
     "output_type": "execute_result"
    }
   ],
   "source": [
    "TIMES"
   ]
  },
  {
   "cell_type": "code",
   "execution_count": null,
   "metadata": {},
   "outputs": [],
   "source": [
    "# DOPPLER FORMULA\n",
    "def doppler(wave, centered_wave):\n",
    "    delta_wave = (centered_wave - wave) \n",
    "    c = 3e8 * u.m / u.s\n",
    "    return -((delta_wave / centered_wave) * c).to(u.km/u.s)"
   ]
  },
  {
   "cell_type": "markdown",
   "metadata": {},
   "source": [
    "### Finds what order a feature is in"
   ]
  },
  {
   "cell_type": "code",
   "execution_count": null,
   "metadata": {},
   "outputs": [],
   "source": [
    "def find_order(region):\n",
    "    global WAVELENGTHS\n",
    "\n",
    "    for i in range(len(WAVELENGTHS[10])):\n",
    "        inds = np.where((WAVELENGTHS[10][i] >= region[0]+1) & \n",
    "                         (WAVELENGTHS[10][i] <= region[-1]-1))[0]\n",
    "        if len(inds) > 0:\n",
    "            return i"
   ]
  },
  {
   "cell_type": "markdown",
   "metadata": {},
   "source": [
    "### Fits 2nd order to feature to find centered wavelength"
   ]
  },
  {
   "cell_type": "code",
   "execution_count": null,
   "metadata": {},
   "outputs": [],
   "source": [
    "def fit_minimum(wave, flux):\n",
    "    for i in range(len(flux)):\n",
    "        plt.plot(wave, flux[i], 'k')\n",
    "\n",
    "    plt.plot(wave, np.nanmedian(flux, axis=0), 'r')\n",
    "    x = np.arange(wave[-1], wave[0], 0.001)\n",
    "    \n",
    "    fit = np.polyfit(wave, np.nanmedian(flux, axis=0), deg=2)\n",
    "    model = np.poly1d(fit)\n",
    "    \n",
    "    model_fit = model(x)\n",
    "\n",
    "    plt.plot(x, model_fit, 'y')\n",
    "    plt.plot(x[np.argmin(model_fit)], model_fit[np.argmin(model_fit)], 'y*', ms=15)\n",
    "    plt.title(x[np.argmin(model_fit)])\n",
    "    plt.show()\n",
    "    \n",
    "    return x[np.argmin(model_fit)]"
   ]
  },
  {
   "cell_type": "markdown",
   "metadata": {},
   "source": [
    "### Creates a 2D array based on the spectra for a given order"
   ]
  },
  {
   "cell_type": "code",
   "execution_count": null,
   "metadata": {},
   "outputs": [],
   "source": [
    "SPECTRA.shape"
   ]
  },
  {
   "cell_type": "code",
   "execution_count": null,
   "metadata": {},
   "outputs": [],
   "source": [
    "def create_2d(inds, region):\n",
    "    global SPECTRA\n",
    "    \n",
    "    summed_last = SPECTRA[-4]\n",
    "    \n",
    "    in_n_out = np.zeros((len(inds), len(region)))\n",
    "    \n",
    "    for i in range(len(inds)):\n",
    "        j = inds[i]\n",
    "        in_n_out[i] = SPECTRA[j][region] / summed_last[region] - 1\n",
    "    \n",
    "    return in_n_out"
   ]
  },
  {
   "cell_type": "markdown",
   "metadata": {},
   "source": [
    "### Plots 2D arrays as a function of flux difference with out of transit"
   ]
  },
  {
   "cell_type": "code",
   "execution_count": null,
   "metadata": {},
   "outputs": [],
   "source": [
    "def plot_2d_velocity(arr, region, line, vmin, vmax, delta):\n",
    "    global WAVELENGTHS\n",
    "    \n",
    "    plt.figure(figsize=(12,5))\n",
    "    for i in range(len(arr)):\n",
    "        plt.scatter(doppler(WAVELENGTHS[i][region], delta) - \n",
    "                    doppler(line, delta),\n",
    "                    np.ones(WAVELENGTHS[i][region].shape)-i,\n",
    "                    c=arr[i] * 100, vmax=vmax,\n",
    "                    vmin=vmin)\n",
    "    plt.title('Velocity Space')\n",
    "    plt.xlabel('V - V$_{Halpha}$ [km s$^{-1}$]')\n",
    "    plt.ylabel('Time')\n",
    "    plt.show()\n",
    "    \n",
    "##########################################\n",
    "    \n",
    "def plot_2d_wave(arr, region, line, vmin, vmax):\n",
    "    global WAVELENGTHS, SPECTRA\n",
    "    \n",
    "    fig, (ax1, ax2) = plt.subplots(nrows=2, figsize=(14,10), sharex=True)\n",
    "\n",
    "    for i in range(len(arr)):\n",
    "        if i != 1:\n",
    "            ax1.plot(WAVELENGTHS[0][region] - line,\n",
    "                     SPECTRA[i][region] - 1)\n",
    "        ax2.scatter(WAVELENGTHS[i][region] - line,\n",
    "                    np.ones(WAVELENGTHS[i][region].shape)-i,\n",
    "                    c=arr[i] * 100, vmax=vmax, vmin=vmin)\n",
    "\n",
    "    ax1.plot(WAVELENGTHS[0][region] - line,\n",
    "             np.nanmedian(SPECTRA[:,region] - 1, axis=0),\n",
    "             lw=3, c='k')\n",
    "    ax1.set_title('Wavelength Space')\n",
    "    ax1.set_ylabel('Relative Flux - 1')  \n",
    "    ax1.set_ylim(-0.3, 0)\n",
    "    plt.xlabel('$\\lambda - \\lambda_{Halpha}$ [nm]')\n",
    "    plt.ylabel('Time')\n",
    "    plt.show()"
   ]
  },
  {
   "cell_type": "markdown",
   "metadata": {},
   "source": [
    "## Analysis for H-alpha"
   ]
  },
  {
   "cell_type": "code",
   "execution_count": null,
   "metadata": {},
   "outputs": [],
   "source": [
    "HALPHA_RANGE = [656.3, 656.41]\n",
    "FIT_RANGE = np.where((WAVELENGTHS[10] >= HALPHA_RANGE[0]) & \n",
    "                     (WAVELENGTHS[10] <= HALPHA_RANGE[1]) & \n",
    "                     (ORDERS[10] == 34))[0]\n",
    "FIT_RANGE = np.flip(FIT_RANGE)\n",
    "HALPHA_LINE = fit_minimum(WAVELENGTHS[10, FIT_RANGE], \n",
    "                          SPECTRA[:,FIT_RANGE])\n",
    "HALPHA_LINE"
   ]
  },
  {
   "cell_type": "code",
   "execution_count": null,
   "metadata": {},
   "outputs": [],
   "source": [
    "DELTA_WAVE_HA = 656.3\n",
    "\n",
    "FIT_RANGE = np.where((WAVELENGTHS[10] >= HALPHA_RANGE[0]-0.1) & \n",
    "                     (WAVELENGTHS[10] <= HALPHA_RANGE[1]+0.1) &\n",
    "                     (ORDERS[10] == 34))[0]\n",
    "\n",
    "#bad = np.array([], dtype=int)\n",
    "COMBINED = np.sort(np.append(BOTH, TRANSIT_C))\n",
    "COMBINED = np.delete(COMBINED, 1)\n",
    "\n",
    "IN_V_OUT = create_2d(COMBINED, FIT_RANGE)\n",
    "\n",
    "plot_2d_wave(IN_V_OUT, FIT_RANGE, HALPHA_LINE, -15, 4)\n",
    "plot_2d_velocity(IN_V_OUT, FIT_RANGE, HALPHA_LINE, -14, 4, DELTA_WAVE_HA)"
   ]
  },
  {
   "cell_type": "markdown",
   "metadata": {},
   "source": [
    "## Detectable RV features:\n",
    "- measure the RV from each night \n",
    "    - take a template\n",
    "    - x-corr between template and each spectrum\n",
    "    - measure RV: peak in velocity space)\n",
    "    - SERVAL code\n",
    "- doppler tomography (shapes of line)\n",
    "    - Collier-Cameron (2010) "
   ]
  },
  {
   "cell_type": "code",
   "execution_count": null,
   "metadata": {},
   "outputs": [],
   "source": [
    "from scipy.signal import correlate, correlate2d\n",
    "from scipy.interpolate import interp1d\n",
    "from tqdm import tqdm_notebook"
   ]
  },
  {
   "cell_type": "code",
   "execution_count": null,
   "metadata": {},
   "outputs": [],
   "source": [
    "def xcorrelate(wavelength, spectra, orders, order, \n",
    "               line, delta_line, template_inds, plot=True):\n",
    "    \n",
    "    q = (ORDERS[20] == order)\n",
    "\n",
    "    cutends = 1200\n",
    "    template = np.nanmedian(spectra[np.arange(0,len(spectra),1,dtype=int)][:,q], axis=0)\n",
    "    template = template[cutends:-cutends]\n",
    "    #tw = np.nanmedian(wavelength[template_inds][:,q], axis=0)\n",
    "    \n",
    "    cross_corr = np.zeros((spectra.shape[0], len(wavelength[0][q][cutends:-cutends])))\n",
    "    peaks = np.array([], dtype=np.float64)\n",
    "\n",
    "    fig, (ax1, ax2) = plt.subplots(ncols=2, figsize=(14,4))\n",
    "    \n",
    "    for i in tqdm_notebook(range(len(spectra))):\n",
    "        wave = wavelength[i][q][cutends:-cutends]\n",
    "        velocity = doppler(wave, delta_line) -  doppler(line, delta_line)\n",
    "        \n",
    "        flux = spectra[i][q][cutends:-cutends]\n",
    "        \n",
    "        ax1.plot(wave, flux, c=colors[i])\n",
    "        corr = np.correlate(template - np.nanmedian(template), \n",
    "                            flux - np.nanmedian(flux), \n",
    "                            mode='same')\n",
    "        cross_corr[i] = corr\n",
    "        c = np.arange(np.argmax(corr)-10, np.argmax(corr)+10,1,dtype=int)\n",
    "        ax2.plot(wave[c], corr[c], c=colors[i])\n",
    "        fit = fit_maximum(wave[c], corr[c])\n",
    "        maximum = -fit[1]/(2*fit[0]) # pixel units\n",
    "        peaks = np.append(peaks, maximum)\n",
    "        \n",
    "    if plot:\n",
    "        plt.show()\n",
    "    else:\n",
    "        plt.close()\n",
    "           \n",
    "    return peaks, cross_corr"
   ]
  },
  {
   "cell_type": "markdown",
   "metadata": {},
   "source": [
    "- get everything in velocity space\n",
    "- make fake data and step each spectrum by 10 m/s (flat in log wavelength, so add a factor)\n",
    "    - Make sure everthing moves linearly\n",
    "    - Calculate pixel $\\rightarrow$ RV space\n",
    "- interpret the fit of the cross-correlation (WHAT UNITS?!)"
   ]
  },
  {
   "cell_type": "markdown",
   "metadata": {},
   "source": [
    "## Injected fake RVs"
   ]
  },
  {
   "cell_type": "code",
   "execution_count": null,
   "metadata": {},
   "outputs": [],
   "source": [
    "def inject_rv(wave, rv):\n",
    "    c = 3e8 * u.m / u.s\n",
    "    rv = rv * u.m / u.s\n",
    "    factor = rv/c\n",
    "    delta_wave = factor*wave\n",
    "    return wave - delta_wave"
   ]
  },
  {
   "cell_type": "markdown",
   "metadata": {},
   "source": [
    "## Telluric Analysis"
   ]
  },
  {
   "cell_type": "code",
   "execution_count": null,
   "metadata": {},
   "outputs": [],
   "source": [
    "import h5py\n",
    "f = h5py.File('telluric_model_r.hdf', 'r')"
   ]
  },
  {
   "cell_type": "markdown",
   "metadata": {},
   "source": [
    "- ID an order that's primarily tellurics, take a fairly narrow region, x-correlate on those\n",
    "    - should be able to serve as a wavelength calibration\n",
    "    - using a wavelength reference from observation to observation\n",
    "        - how much are references off \n",
    "    - subtract off RVs from the tellurics (across a bunch of regions)\n",
    "        - use to change wavelength grid\n",
    "        - Ben thinks they'll move by ~ 50 m/s\n",
    "- Look at the spectra right around the jump\n",
    "    - do they look shifted relative to each other in a way that's different from the one right before and the one right after? \n",
    "    - take difference between the 2 and if there is a velocity shift, you'll see it in a dipole-y shape\n",
    "    - see if the difference is different between the stellar lines and the tellurics. if the tellurics subtract off well and the star does not, the star has MOOOOVEDDD\n",
    "- P A N I C -- bring in Dr. Andreas, masteroftellurics"
   ]
  },
  {
   "cell_type": "code",
   "execution_count": null,
   "metadata": {},
   "outputs": [],
   "source": [
    "f['wavelength_solution']['fiber_2'].keys()"
   ]
  },
  {
   "cell_type": "code",
   "execution_count": null,
   "metadata": {},
   "outputs": [],
   "source": [
    "%matplotlib inline\n",
    "%matplotlib notebook\n",
    "%matplotlib notebook\n",
    "\n",
    "plt.rcParams['font.size']=13\n",
    "plt.rcParams['figure.figsize']=(11,6)\n",
    "\n",
    "for key in f['wavelength_solution']['fiber_2'].keys():\n",
    "    telluric_wave = f['wavelength_solution']['fiber_2'][key][()]\n",
    "    telluric_spec = f['telluric_model']['fiber_2'][key][()]\n",
    "    if key == '94':\n",
    "        same = np.where((WAVELENGTHS[0] >= telluric_wave[0]) &\n",
    "                        (WAVELENGTHS[0] <= telluric_wave[-1])) ##)[0]\n",
    "                        #(ORDERS[0] == 32))[0]\n",
    "        plt.plot(WAVELENGTHS[0][same], SPECTRA[0][same], 'w', linewidth=1)\n",
    "        plt.title(key)\n",
    "        plt.plot(telluric_wave-0.24, telluric_spec, 'k', linewidth=4)\n",
    "            #plt.xlim(906.83,906.9)\n",
    "plt.show()\n",
    "np.unique(ORDERS[0][same])"
   ]
  },
  {
   "cell_type": "code",
   "execution_count": null,
   "metadata": {},
   "outputs": [],
   "source": [
    "telluric_orders = [32, 32, \n",
    "                   31, 31,\n",
    "                   27, 27, 27,\n",
    "                   25, 25, \n",
    "                   29, 29, \n",
    "                   31, 31, \n",
    "                   32, 32,\n",
    "                   30, 30]\n",
    "telluric_lines = [[717.286, 717.396],\n",
    "                  [716.731, 716.781],\n",
    "                  [728.675, 728.717],\n",
    "                  [728.737, 728.799],\n",
    "                  [830.318, 830.507],\n",
    "                  [827.133, 827.187],\n",
    "                  [832.053, 832.152],\n",
    "                  [897.026, 897.151],\n",
    "                  [909.876, 910.037],\n",
    "                  [770.217, 770.254],\n",
    "                  [768.86, 768.898],\n",
    "                  [723.922, 723.959],\n",
    "                  [731.493, 731.528],\n",
    "                  [717.324, 717.347],\n",
    "                  [717.356, 717.393],\n",
    "                  [764.206, 764.251],\n",
    "                  [765.140, 765.171]\n",
    "                 ]"
   ]
  },
  {
   "cell_type": "code",
   "execution_count": null,
   "metadata": {},
   "outputs": [],
   "source": [
    "template = SPECTRA[42]#np.nanmedian(SPECTRA[np.arange(0,len(SPECTRA),1,dtype=int)], axis=0)\n",
    "temp_wave = WAVELENGTHS[42]"
   ]
  },
  {
   "cell_type": "code",
   "execution_count": null,
   "metadata": {},
   "outputs": [],
   "source": [
    "def fit_maximum(x, y):\n",
    "    fit = np.polyfit(x, y, deg=2)\n",
    "    return fit"
   ]
  },
  {
   "cell_type": "code",
   "execution_count": null,
   "metadata": {
    "scrolled": true
   },
   "outputs": [],
   "source": [
    "%matplotlib inline\n",
    "telluric_rvs = np.zeros((len(telluric_orders),len(SPECTRA)))\n",
    "\n",
    "for tl in tqdm_notebook(range(len(telluric_orders))):\n",
    "    fig, (ax1, ax2) = plt.subplots(ncols=2, figsize=(14,4))\n",
    "    peaks = np.zeros(len(SPECTRA))\n",
    "    print(telluric_orders[tl], telluric_lines[tl])\n",
    "    for i in range(len(SPECTRA)):\n",
    "    #    print(telluric_orders[tl], telluric_lines[tl][0], telluric_lines[tl][1])\n",
    "        q =  ((ORDERS[i] == telluric_orders[tl]) & \n",
    "             (WAVELENGTHS[i] >= telluric_lines[tl][0]) &\n",
    "             (WAVELENGTHS[i] <= telluric_lines[tl][1]))\n",
    "        \n",
    "        outofline = np.append(np.arange(0,5,1,dtype=int),\n",
    "                              np.arange(len(SPECTRA[i][q])-2, len(SPECTRA[i][q]), 1, dtype=int))\n",
    "        temp = template[q]\n",
    "        interp = np.polyfit(np.append(temp_wave[0:3],temp_wave[-3:]), \n",
    "                            np.append(temp[0:3], temp[-3:]), deg=1)\n",
    "        model = np.poly1d(interp)\n",
    "        temp /= model(temp_wave[q])\n",
    "        temp /= np.nanmedian(temp[outofline])\n",
    "        \n",
    "        \n",
    "        wave = WAVELENGTHS[i][q]\n",
    "        flux = SPECTRA[i][q]\n",
    "        interp = np.polyfit(np.append(wave[0:3],wave[-3:]), \n",
    "                            np.append(flux[0:3], flux[-3:]), deg=1)\n",
    "        model = np.poly1d(interp)\n",
    "        flux /= model(wave)\n",
    "        flux /= np.nanmedian(flux[outofline])\n",
    "\n",
    "       # flux -= np.nanmedian([flux[0]-1, flux[-1]-1])/2.0   \n",
    "\n",
    "        ax1.plot(wave, flux, c=colors[i])\n",
    "        corr = np.correlate(temp - np.nanmedian(temp), \n",
    "                            flux - np.nanmedian(flux), \n",
    "                            mode='same')\n",
    "        \n",
    "        c = np.arange(np.argmax(corr)-4, np.argmax(corr)+5,1,dtype=int)\n",
    "        #print(np.argmax(corr), len(corr))\n",
    "\n",
    "        ax2.plot(c-np.argmax(corr), corr[c], c=colors[i])\n",
    "        fit = fit_maximum(c-np.argmax(corr), corr[c])\n",
    "        \n",
    "        ax2.plot(c-np.argmax(corr), np.poly1d(fit)(c-np.argmax(corr)), 'k')\n",
    "        maximum = -fit[1]/(2*fit[0]) # pixel units\n",
    "        peaks[i] = maximum\n",
    "\n",
    "    ax1.plot(temp_wave[q], temp, 'k', linewidth=3)\n",
    "    plt.show()\n",
    "    telluric_rvs[tl] = np.nanmedian(np.diff(np.log(wave))) * 3e8 * peaks"
   ]
  },
  {
   "cell_type": "code",
   "execution_count": null,
   "metadata": {},
   "outputs": [],
   "source": [
    "rv_diffs = np.zeros(len(SPECTRA))\n",
    "for i in range(len(telluric_rvs)):\n",
    "    fig, (ax1, ax2) = plt.subplots(ncols=2, figsize=(14,4))\n",
    "    ax1.plot(telluric_rvs[i], 'w.')\n",
    "    for j in range(len(SPECTRA)):\n",
    "        q =  ((ORDERS[j] == telluric_orders[i]) & \n",
    "             (WAVELENGTHS[j] >= telluric_lines[i][0]) &\n",
    "             (WAVELENGTHS[j] <= telluric_lines[i][1]))\n",
    "        temp = template[q]\n",
    "\n",
    "        wave = WAVELENGTHS[j][q]\n",
    "        # normalize to one, not saturated lines, \n",
    "        # make sure going to the same value on either side of the line\n",
    "        flux = SPECTRA[j][q]#/np.nanmedian(SPECTRA[j][q])\n",
    "\n",
    "        ax2.plot(wave, flux, c=colors[j])\n",
    "    ax2.set_title(telluric_orders[i])\n",
    "    plt.show()"
   ]
  },
  {
   "cell_type": "code",
   "execution_count": null,
   "metadata": {},
   "outputs": [],
   "source": [
    "rv_diffs = np.zeros(len(SPECTRA))\n",
    "for i in range(len(SPECTRA)):\n",
    "    plt.plot(i, np.nanmean(telluric_rvs[:,i]), 'w.')\n",
    "   # try:\n",
    "   #     rv_diffs[i] = np.nanmean(telluric_rvs[:,i+1])-np.nanmean(telluric_rvs[:,i])\n",
    "   # except IndexError:\n",
    "   #     rv_diffs[i] = np.nanmean(telluric_rvs[:,i])-np.nanmean(telluric_rvs[:,i-1])"
   ]
  },
  {
   "cell_type": "code",
   "execution_count": null,
   "metadata": {},
   "outputs": [],
   "source": [
    "def inject_rv(wave, rv, remove=False):\n",
    "    c = 3e8\n",
    "    log_delta_wave = np.log(rv) - np.log(c) + np.log(wave) # delta log lambda\n",
    "    delta_wave = rv/c * wave\n",
    "    \n",
    "    if remove == False:\n",
    "        return wave + delta_wave\n",
    "    else:\n",
    "        new_wave = wave - delta_wave\n",
    "        #d = np.nanmean(np.log(wave[ORDERS[0]==22]) - \n",
    "        #               np.log(new_wave[ORDERS[0]==22]))\n",
    "        #new_rv = np.log(d)-np.log(wave[ORDERS[0]==22])+np.log(c)\n",
    "        #print(rv, np.exp(new_rv[0]))\n",
    "        return new_wave"
   ]
  },
  {
   "cell_type": "code",
   "execution_count": null,
   "metadata": {},
   "outputs": [],
   "source": [
    "NEW_WAVELENGTHS = np.copy(WAVELENGTHS)\n",
    "for i in range(len(WAVELENGTHS)):\n",
    "    if i < np.argmax(rv_diffs):\n",
    "        diff = rv_diffs[i] + np.nanmax(rv_diffs)\n",
    "    else:\n",
    "        diff = rv_diffs[i]\n",
    "    NEW_WAVELENGTHS[i] = inject_rv(WAVELENGTHS[i], diff, remove=True)"
   ]
  },
  {
   "cell_type": "code",
   "execution_count": null,
   "metadata": {},
   "outputs": [],
   "source": [
    "for i in range(len(WAVELENGTHS)):\n",
    "    d = np.nanmean(np.log10(WAVELENGTHS[i][ORDERS[0]==22]) - \n",
    "                       np.log10(NEW_WAVELENGTHS[i][ORDERS[0]==22]))\n",
    "    #print(i, d)\n",
    "    new_rv = np.log10(d)-np.log10(WAVELENGTHS[i][ORDERS[0]==22])+np.log10(3e8)\n",
    "    print(i, rv_diffs[i], 10**np.nanmedian(rv))"
   ]
  },
  {
   "cell_type": "markdown",
   "metadata": {},
   "source": [
    "## Injected fake RVs"
   ]
  },
  {
   "cell_type": "code",
   "execution_count": null,
   "metadata": {},
   "outputs": [],
   "source": [
    "fake_waves = np.zeros((len(SPECTRA), len(NEW_WAVELENGTHS[0])))\n",
    "fake_spect = np.zeros((len(SPECTRA), len(NEW_WAVELENGTHS[0])))\n",
    "fake_rvs = np.linspace(1,len(SPECTRA)*10,len(SPECTRA))\n",
    "for i, rv in enumerate(fake_rvs):\n",
    "    fake_waves[i] = inject_rv(NEW_WAVELENGTHS[i], rv)\n",
    "    fake_spect[i] = SPECTRA[i]\n",
    "\n",
    "fit_peaks, _ = xcorrelate(fake_waves, fake_spect, ORDERS, 34, HALPHA_LINE, \n",
    "                          DELTA_WAVE_HA, OUT,\n",
    "                          plot=True)\n",
    "fit = np.polyfit(fit_peaks, fake_rvs, deg=1)\n",
    "calibration_line = np.poly1d(fit)\n",
    "plt.plot(fit_peaks, fake_rvs, 'wo')\n",
    "plt.plot(fit_peaks, calibration_line(fit_peaks), 'ro')\n",
    "plt.show()"
   ]
  },
  {
   "cell_type": "code",
   "execution_count": null,
   "metadata": {},
   "outputs": [],
   "source": [
    "d = np.abs(np.nanmean(np.log10(WAVELENGTHS[10][ORDERS[0]==22]) - \n",
    "                   np.log10(fake_waves[10][ORDERS[0]==22]))) \n",
    "rv = 10**(np.log10(d)-np.log10(WAVELENGTHS[0][ORDERS[0]==22])+np.log10(3e8))\n",
    "print(np.nanmedian(rv), fake_rvs[10])"
   ]
  },
  {
   "cell_type": "markdown",
   "metadata": {},
   "source": [
    "## Get RVs"
   ]
  },
  {
   "cell_type": "code",
   "execution_count": null,
   "metadata": {
    "scrolled": true
   },
   "outputs": [],
   "source": [
    "plt.rcParams['font.size'] = 18\n",
    "\n",
    "unique_orders = np.unique(ORDERS[0])\n",
    "\n",
    "rvs = np.zeros((len(unique_orders), len(SPECTRA)))\n",
    "\n",
    "for o, order in enumerate(unique_orders[0:2]):\n",
    "    fit_peaks, _ = xcorrelate(fake_waves, fake_spect, ORDERS, order, \n",
    "                              HALPHA_LINE, DELTA_WAVE_HA, OUT, plot=False)\n",
    "    fit = np.polyfit(fit_peaks, fake_rvs, deg=1)\n",
    "    line = np.poly1d(fit)\n",
    "\n",
    "    peaks, _ = xcorrelate(NEW_WAVELENGTHS, SPECTRA, ORDERS, order, \n",
    "                          HALPHA_LINE, DELTA_WAVE_HA, OUT)\n",
    "    \n",
    "    plt.plot(calibration_line(peaks), 'ko')\n",
    "    plt.xlabel('Observation')\n",
    "    plt.ylabel('RV [m/s]')\n",
    "    plt.show()\n",
    "    \n",
    "    rvs[o] = calibration_line(peaks)\n",
    "#plt.savefig('/Users/arcticfox/Desktop/rv.png', dpi=200, rasterize=True,\n",
    "#           bbox_inches='tight')\n",
    "#plt.plot(peaks, line(peaks), 'k')"
   ]
  },
  {
   "cell_type": "code",
   "execution_count": null,
   "metadata": {},
   "outputs": [],
   "source": [
    "for i in range(len(SPECTRA)):\n",
    "    plt.errorbar(i, np.nanmean(rvs[:,i]),\n",
    "                 #yerr=np.nanstd(rvs[:,i])/np.sqrt(len(SPECTRA)),\n",
    "                 marker='o')\n",
    "plt.xlabel('Observation')\n",
    "plt.ylabel('Mean RV [m/s]')"
   ]
  },
  {
   "cell_type": "code",
   "execution_count": null,
   "metadata": {},
   "outputs": [],
   "source": []
  },
  {
   "cell_type": "code",
   "execution_count": null,
   "metadata": {},
   "outputs": [],
   "source": [
    "def inject_rv(wave, rv):\n",
    "    c = 3e8 * u.m / u.s\n",
    "    rv = rv * u.m / u.s\n",
    "    factor = rv/c\n",
    "    delta_wave = factor*wave\n",
    "    return wave - delta_wave"
   ]
  },
  {
   "cell_type": "code",
   "execution_count": null,
   "metadata": {},
   "outputs": [],
   "source": []
  },
  {
   "cell_type": "code",
   "execution_count": null,
   "metadata": {},
   "outputs": [],
   "source": [
    "fake_waves = np.zeros((len(SPECTRA), len(NEW_WAVELENGTHS[0])))\n",
    "fake_spect = np.zeros((len(SPECTRA), len(NEW_WAVELENGTHS[0])))\n",
    "fake_rvs = np.arange(0,len(SPECTRA)*10,10)\n",
    "for i, rv in enumerate(fake_rvs):\n",
    "    fake_waves[i] = inject_rv(NEW_WAVELENGTHS[i], rv)\n",
    "    fake_spect[i] = SPECTRA[i]"
   ]
  },
  {
   "cell_type": "code",
   "execution_count": null,
   "metadata": {},
   "outputs": [],
   "source": [
    "NEW_WAVELENGTHS = np.copy(WAVELENGTHS)\n",
    "for i in range(len(WAVELENGTHS)):\n",
    "    if i < np.argmax(rv_diffs):\n",
    "        diff = rv_diffs[i] + np.nanmax(rv_diffs)\n",
    "    else:\n",
    "        diff = rv_diffs[i]\n",
    "    NEW_WAVELENGTHS[i] = WAVELENGTHS[i] - WAVELENGTHS[i]*(diff/3e8)"
   ]
  },
  {
   "cell_type": "code",
   "execution_count": null,
   "metadata": {},
   "outputs": [],
   "source": [
    "q = ORDERS[0]==35\n",
    "plt.plot(WAVELENGTHS[0][q], SPECTRA[0][q],'r')\n",
    "plt.plot(NEW_WAVELENGTHS[0][q], SPECTRA[0][q],'k')\n",
    "plt.xlim(656.1,656.5)"
   ]
  }
 ],
 "metadata": {
  "kernelspec": {
   "display_name": "Python 3",
   "language": "python",
   "name": "python3"
  },
  "language_info": {
   "codemirror_mode": {
    "name": "ipython",
    "version": 3
   },
   "file_extension": ".py",
   "mimetype": "text/x-python",
   "name": "python",
   "nbconvert_exporter": "python",
   "pygments_lexer": "ipython3",
   "version": "3.7.3"
  }
 },
 "nbformat": 4,
 "nbformat_minor": 2
}
