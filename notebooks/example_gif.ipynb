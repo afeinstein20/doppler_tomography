{
 "cells": [
  {
   "cell_type": "code",
   "execution_count": 431,
   "metadata": {},
   "outputs": [],
   "source": [
    "import numpy as np\n",
    "import horus,os\n",
    "import imageio\n",
    "from astropy import units\n",
    "import matplotlib.pyplot as plt\n",
    "from matplotlib.path import Path\n",
    "from scipy.interpolate import interp1d\n",
    "from matplotlib.patches import PathPatch\n",
    "from photutils import CircularAperture, ApertureMask\n",
    "\n",
    "parula_colors=np.load('/Users/arcticfox/parula_colors.npy')\n",
    "\n",
    "COLOR = 'w'\n",
    "\n",
    "plt.rcParams['text.color'] = COLOR\n",
    "plt.rcParams['xtick.color'] = COLOR\n",
    "plt.rcParams['ytick.color'] = COLOR\n",
    "plt.rcParams['axes.labelcolor'] = COLOR\n",
    "#plt.rcParams['axes.spines.top'] = False\n",
    "#plt.rcParams['axes.spines.right'] = False\n",
    "plt.rcParams['axes.labelcolor'] = COLOR\n",
    "plt.rcParams['axes.edgecolor'] = COLOR\n",
    "plt.rcParams['figure.facecolor'] = 'none'\n",
    "plt.rcParams['legend.facecolor'] = 'none'\n",
    "plt.rcParams['xtick.minor.size'] = 4\n",
    "plt.rcParams['xtick.major.size'] = 9\n",
    "plt.rcParams['xtick.minor.size'] = 4\n",
    "plt.rcParams['xtick.major.size'] = 9"
   ]
  },
  {
   "cell_type": "code",
   "execution_count": 83,
   "metadata": {},
   "outputs": [],
   "source": [
    "def hex_to_rgb(h):\n",
    "    if '#' in h:\n",
    "        h = h.lstrip('#')   \n",
    "    hlen = int(len(h))\n",
    "    rgb = tuple(int(h[i:int(i+hlen/3)], 16) / 255.0 for i in range(0, hlen, int(hlen/3)))\n",
    "    return rgb"
   ]
  },
  {
   "cell_type": "code",
   "execution_count": 78,
   "metadata": {},
   "outputs": [],
   "source": [
    "def discrete_star(res):\n",
    "\n",
    "    x = np.linspace(-1.0, 1.0, res)\n",
    "    y = np.linspace(-1.0, 1.0, res)\n",
    "\n",
    "    z = np.ones(res**2).reshape(res,res)\n",
    "\n",
    "    xx, yy = np.meshgrid(x, y, sparse=True)\n",
    "\n",
    "    r = np.sqrt(xx**2 + yy**2)\n",
    "    z[r >1] = 0\n",
    "\n",
    "    lat = np.arcsin(yy)\n",
    "    lon = np.arcsin(xx)\n",
    "\n",
    "    v_diffrot = 100*z*np.cos(lat)*np.sin(lon) *np.cos(lat/1.0)\n",
    "    v = 100*z*np.cos(lat)*np.sin(lon)\n",
    "\n",
    "    rx, ry = np.where(z==0)\n",
    "    z[rx,ry]=np.nan\n",
    "    \n",
    "    for i in range(100):\n",
    "        ind = np.where(np.isnan(z[i])==False)[0]\n",
    "        z[i][ind] = ind\n",
    "\n",
    "    return z"
   ]
  },
  {
   "cell_type": "code",
   "execution_count": 136,
   "metadata": {},
   "outputs": [],
   "source": [
    "def upside_down_gauss(x, mu, sig, f):\n",
    "    term1 = f / (sig * np.sqrt(2 * np.pi))\n",
    "    e = -0.5 * (x - mu)**2 / sig**2\n",
    "    return -term1 * np.exp(e)\n",
    "def gauss(x, mu, sig, f):\n",
    "    term1 = f / (sig * np.sqrt(2 * np.pi))\n",
    "    e = -0.5 * (x - mu)**2 / sig**2\n",
    "    return term1 * np.exp(e)"
   ]
  },
  {
   "cell_type": "code",
   "execution_count": 376,
   "metadata": {},
   "outputs": [],
   "source": [
    "def expanding_bins(lines, repeat=3, subtract=True, med=None):\n",
    "    global time\n",
    "    \n",
    "    if med is None:\n",
    "        med = np.nanmedian(lines, axis=0)\n",
    "    binned = np.zeros( (len(time)*repeat, len(lines[0]))  )\n",
    "            \n",
    "    z = 0\n",
    "    for i in range(len(lines)):\n",
    "        if subtract == True:\n",
    "            binned[z:z+repeat] = lines[i] - med\n",
    "        else:\n",
    "            binned[z:z+repeat] = lines[i]\n",
    "        z += repeat\n",
    "    return binned, med"
   ]
  },
  {
   "cell_type": "code",
   "execution_count": 196,
   "metadata": {},
   "outputs": [],
   "source": [
    "key = 'caIII'\n",
    "data = np.load('v1298_{}.pkl'.format(key), allow_pickle=True)\n",
    "time = data['ttime']+0.0\n",
    "expt = data['texptime']+0.0"
   ]
  },
  {
   "cell_type": "code",
   "execution_count": 444,
   "metadata": {},
   "outputs": [
    {
     "data": {
      "text/plain": [
       "43"
      ]
     },
     "execution_count": 444,
     "metadata": {},
     "output_type": "execute_result"
    }
   ],
   "source": [
    "len(centers)"
   ]
  },
  {
   "cell_type": "code",
   "execution_count": 464,
   "metadata": {},
   "outputs": [
    {
     "data": {
      "image/png": "[encoded data removed]",
      "text/plain": [
       "<Figure size 432x288 with 1 Axes>"
      ]
     },
     "metadata": {
      "needs_background": "dark"
     },
     "output_type": "display_data"
    }
   ],
   "source": [
    "centers = np.linspace(656.0, 656.6, len(time)-10)\n",
    "x = np.linspace(655.3,657.3,1000)\n",
    "yerr = np.full(len(x), 0.001)\n",
    "\n",
    "linemodels = np.zeros((len(time), len(x)))\n",
    "\n",
    "for i in range(len(centers)):\n",
    "    \n",
    "    y = upside_down_gauss(x, 656.3, 0.2, 0.5)\n",
    "    \n",
    "    yp = gauss(x, centers[i], 0.03, 1e-2)\n",
    "    \n",
    "    yp[yp<0.005]=np.nan\n",
    "    new = yp+y\n",
    "    y[yp>0.005]=yp[yp>0.005]+y[yp>0.005]\n",
    "    linemodels[i+5] = y\n",
    "    plt.plot(x, y, 'k', lw=3, alpha=0.3)\n"
   ]
  },
  {
   "cell_type": "code",
   "execution_count": 383,
   "metadata": {},
   "outputs": [],
   "source": [
    "grid = discrete_star(100)"
   ]
  },
  {
   "cell_type": "code",
   "execution_count": 420,
   "metadata": {},
   "outputs": [],
   "source": [
    "rsize=100\n",
    "rstar = rsize/2.0\n",
    "rprstar = 0.04246\n",
    "equator = rsize/2.0\n",
    "\n",
    "duration = ( 4.66 * units.hour).to(units.day).value\n",
    "time_start_ind=5\n",
    "planet_steps = np.arange(5,53-5,1)\n",
    "centers = np.linspace(0, rsize, len(planet_steps))\n",
    "\n",
    "planet_masked = np.zeros((len(centers), grid.shape[0], rsize))\n",
    "equator = int(grid.shape[0]/2)\n",
    "\n",
    "\n",
    "for i in range(len(centers)):\n",
    "    ap = CircularAperture(r=5.0, positions=[centers[i], equator])\n",
    "    mask = ap.to_mask()\n",
    "\n",
    "    image = mask.to_image(shape=(planet_masked[0].shape))\n",
    "    bool_img = np.array(image, dtype=bool)\n",
    "    int_img = np.array(~bool_img, dtype=float)\n",
    "    fullmask = np.full(planet_masked[0].shape, np.nan)\n",
    "    \n",
    "    xr, yr = np.where(int_img!=1)\n",
    "    fullmask[xr, yr]=0.0\n",
    "    planet_masked[i] = fullmask\n",
    "    #np.save('planet_mask_{0:03d}.npy', int_img)"
   ]
  },
  {
   "cell_type": "code",
   "execution_count": 421,
   "metadata": {},
   "outputs": [],
   "source": [
    "blue = '#0a2bff'\n",
    "red = '#ff0a1a'\n",
    "\n",
    "from matplotlib.colors import LinearSegmentedColormap\n",
    "\n",
    "clist = np.array([blue, red])\n",
    "rgb_tuples = []\n",
    "\n",
    "for c in clist:\n",
    "    rgb_tuples.append(hex_to_rgb(c))\n",
    "\n",
    "cm = LinearSegmentedColormap.from_list(\n",
    "        'sequential', rgb_tuples, N=2048)\n",
    "\n",
    "clist = np.array(['#000000', parula_colors[60], '#FFFFFF'\n",
    "                  \n",
    "                  ])\n",
    "rgb_tuples = []\n",
    "\n",
    "for c in clist:\n",
    "    rgb_tuples.append(hex_to_rgb(c))\n",
    "\n",
    "cm_paper = LinearSegmentedColormap.from_list(\n",
    "        'sequential', rgb_tuples, N=2048)"
   ]
  },
  {
   "cell_type": "code",
   "execution_count": 422,
   "metadata": {},
   "outputs": [],
   "source": [
    "plt.rcParams['font.size'] = 18"
   ]
  },
  {
   "cell_type": "code",
   "execution_count": 466,
   "metadata": {},
   "outputs": [],
   "source": [
    "bkg = np.full(linemodels.shape, linemodels[0])\n",
    "waterfall_bkg, _ = expanding_bins(bkg, 8, subtract=False)"
   ]
  },
  {
   "cell_type": "code",
   "execution_count": 547,
   "metadata": {},
   "outputs": [],
   "source": [
    "plotdir = '/Users/arcticfox/Documents/atmospheres/v1298tau/misttborn/longanim'"
   ]
  },
  {
   "cell_type": "code",
   "execution_count": 549,
   "metadata": {
    "scrolled": true
   },
   "outputs": [
    {
     "name": "stderr",
     "output_type": "stream",
     "text": [
      "//anaconda3/lib/python3.7/site-packages/ipykernel_launcher.py:60: MatplotlibDeprecationWarning: savefig() got unexpected keyword argument \"rasterize\" which is no longer supported as of 3.3 and will become an error two minor releases later\n",
      "//anaconda3/lib/python3.7/site-packages/ipykernel_launcher.py:60: MatplotlibDeprecationWarning: savefig() got unexpected keyword argument \"bbox\" which is no longer supported as of 3.3 and will become an error two minor releases later\n",
      "//anaconda3/lib/python3.7/site-packages/ipykernel_launcher.py:60: MatplotlibDeprecationWarning: savefig() got unexpected keyword argument \"rasterize\" which is no longer supported as of 3.3 and will become an error two minor releases later\n",
      "//anaconda3/lib/python3.7/site-packages/ipykernel_launcher.py:60: MatplotlibDeprecationWarning: savefig() got unexpected keyword argument \"bbox\" which is no longer supported as of 3.3 and will become an error two minor releases later\n",
      "//anaconda3/lib/python3.7/site-packages/ipykernel_launcher.py:60: MatplotlibDeprecationWarning: savefig() got unexpected keyword argument \"rasterize\" which is no longer supported as of 3.3 and will become an error two minor releases later\n",
      "//anaconda3/lib/python3.7/site-packages/ipykernel_launcher.py:60: MatplotlibDeprecationWarning: savefig() got unexpected keyword argument \"bbox\" which is no longer supported as of 3.3 and will become an error two minor releases later\n",
      "//anaconda3/lib/python3.7/site-packages/ipykernel_launcher.py:60: MatplotlibDeprecationWarning: savefig() got unexpected keyword argument \"rasterize\" which is no longer supported as of 3.3 and will become an error two minor releases later\n",
      "//anaconda3/lib/python3.7/site-packages/ipykernel_launcher.py:60: MatplotlibDeprecationWarning: savefig() got unexpected keyword argument \"bbox\" which is no longer supported as of 3.3 and will become an error two minor releases later\n",
      "//anaconda3/lib/python3.7/site-packages/ipykernel_launcher.py:60: MatplotlibDeprecationWarning: savefig() got unexpected keyword argument \"rasterize\" which is no longer supported as of 3.3 and will become an error two minor releases later\n",
      "//anaconda3/lib/python3.7/site-packages/ipykernel_launcher.py:60: MatplotlibDeprecationWarning: savefig() got unexpected keyword argument \"bbox\" which is no longer supported as of 3.3 and will become an error two minor releases later\n",
      "//anaconda3/lib/python3.7/site-packages/ipykernel_launcher.py:60: MatplotlibDeprecationWarning: savefig() got unexpected keyword argument \"rasterize\" which is no longer supported as of 3.3 and will become an error two minor releases later\n",
      "//anaconda3/lib/python3.7/site-packages/ipykernel_launcher.py:60: MatplotlibDeprecationWarning: savefig() got unexpected keyword argument \"bbox\" which is no longer supported as of 3.3 and will become an error two minor releases later\n",
      "//anaconda3/lib/python3.7/site-packages/ipykernel_launcher.py:60: MatplotlibDeprecationWarning: savefig() got unexpected keyword argument \"rasterize\" which is no longer supported as of 3.3 and will become an error two minor releases later\n",
      "//anaconda3/lib/python3.7/site-packages/ipykernel_launcher.py:60: MatplotlibDeprecationWarning: savefig() got unexpected keyword argument \"bbox\" which is no longer supported as of 3.3 and will become an error two minor releases later\n",
      "//anaconda3/lib/python3.7/site-packages/ipykernel_launcher.py:60: MatplotlibDeprecationWarning: savefig() got unexpected keyword argument \"rasterize\" which is no longer supported as of 3.3 and will become an error two minor releases later\n",
      "//anaconda3/lib/python3.7/site-packages/ipykernel_launcher.py:60: MatplotlibDeprecationWarning: savefig() got unexpected keyword argument \"bbox\" which is no longer supported as of 3.3 and will become an error two minor releases later\n",
      "//anaconda3/lib/python3.7/site-packages/ipykernel_launcher.py:60: MatplotlibDeprecationWarning: savefig() got unexpected keyword argument \"rasterize\" which is no longer supported as of 3.3 and will become an error two minor releases later\n",
      "//anaconda3/lib/python3.7/site-packages/ipykernel_launcher.py:60: MatplotlibDeprecationWarning: savefig() got unexpected keyword argument \"bbox\" which is no longer supported as of 3.3 and will become an error two minor releases later\n",
      "//anaconda3/lib/python3.7/site-packages/ipykernel_launcher.py:60: MatplotlibDeprecationWarning: savefig() got unexpected keyword argument \"rasterize\" which is no longer supported as of 3.3 and will become an error two minor releases later\n",
      "//anaconda3/lib/python3.7/site-packages/ipykernel_launcher.py:60: MatplotlibDeprecationWarning: savefig() got unexpected keyword argument \"bbox\" which is no longer supported as of 3.3 and will become an error two minor releases later\n",
      "//anaconda3/lib/python3.7/site-packages/ipykernel_launcher.py:60: MatplotlibDeprecationWarning: savefig() got unexpected keyword argument \"rasterize\" which is no longer supported as of 3.3 and will become an error two minor releases later\n",
      "//anaconda3/lib/python3.7/site-packages/ipykernel_launcher.py:60: MatplotlibDeprecationWarning: savefig() got unexpected keyword argument \"bbox\" which is no longer supported as of 3.3 and will become an error two minor releases later\n",
      "//anaconda3/lib/python3.7/site-packages/ipykernel_launcher.py:60: MatplotlibDeprecationWarning: savefig() got unexpected keyword argument \"rasterize\" which is no longer supported as of 3.3 and will become an error two minor releases later\n",
      "//anaconda3/lib/python3.7/site-packages/ipykernel_launcher.py:60: MatplotlibDeprecationWarning: savefig() got unexpected keyword argument \"bbox\" which is no longer supported as of 3.3 and will become an error two minor releases later\n",
      "//anaconda3/lib/python3.7/site-packages/ipykernel_launcher.py:60: MatplotlibDeprecationWarning: savefig() got unexpected keyword argument \"rasterize\" which is no longer supported as of 3.3 and will become an error two minor releases later\n",
      "//anaconda3/lib/python3.7/site-packages/ipykernel_launcher.py:60: MatplotlibDeprecationWarning: savefig() got unexpected keyword argument \"bbox\" which is no longer supported as of 3.3 and will become an error two minor releases later\n",
      "//anaconda3/lib/python3.7/site-packages/ipykernel_launcher.py:60: MatplotlibDeprecationWarning: savefig() got unexpected keyword argument \"rasterize\" which is no longer supported as of 3.3 and will become an error two minor releases later\n",
      "//anaconda3/lib/python3.7/site-packages/ipykernel_launcher.py:60: MatplotlibDeprecationWarning: savefig() got unexpected keyword argument \"bbox\" which is no longer supported as of 3.3 and will become an error two minor releases later\n",
      "//anaconda3/lib/python3.7/site-packages/ipykernel_launcher.py:60: MatplotlibDeprecationWarning: savefig() got unexpected keyword argument \"rasterize\" which is no longer supported as of 3.3 and will become an error two minor releases later\n",
      "//anaconda3/lib/python3.7/site-packages/ipykernel_launcher.py:60: MatplotlibDeprecationWarning: savefig() got unexpected keyword argument \"bbox\" which is no longer supported as of 3.3 and will become an error two minor releases later\n",
      "//anaconda3/lib/python3.7/site-packages/ipykernel_launcher.py:60: MatplotlibDeprecationWarning: savefig() got unexpected keyword argument \"rasterize\" which is no longer supported as of 3.3 and will become an error two minor releases later\n",
      "//anaconda3/lib/python3.7/site-packages/ipykernel_launcher.py:60: MatplotlibDeprecationWarning: savefig() got unexpected keyword argument \"bbox\" which is no longer supported as of 3.3 and will become an error two minor releases later\n",
      "//anaconda3/lib/python3.7/site-packages/ipykernel_launcher.py:60: MatplotlibDeprecationWarning: savefig() got unexpected keyword argument \"rasterize\" which is no longer supported as of 3.3 and will become an error two minor releases later\n",
      "//anaconda3/lib/python3.7/site-packages/ipykernel_launcher.py:60: MatplotlibDeprecationWarning: savefig() got unexpected keyword argument \"bbox\" which is no longer supported as of 3.3 and will become an error two minor releases later\n",
      "//anaconda3/lib/python3.7/site-packages/ipykernel_launcher.py:60: MatplotlibDeprecationWarning: savefig() got unexpected keyword argument \"rasterize\" which is no longer supported as of 3.3 and will become an error two minor releases later\n",
      "//anaconda3/lib/python3.7/site-packages/ipykernel_launcher.py:60: MatplotlibDeprecationWarning: savefig() got unexpected keyword argument \"bbox\" which is no longer supported as of 3.3 and will become an error two minor releases later\n"
     ]
    },
    {
     "name": "stderr",
     "output_type": "stream",
     "text": [
      "//anaconda3/lib/python3.7/site-packages/ipykernel_launcher.py:60: MatplotlibDeprecationWarning: savefig() got unexpected keyword argument \"rasterize\" which is no longer supported as of 3.3 and will become an error two minor releases later\n",
      "//anaconda3/lib/python3.7/site-packages/ipykernel_launcher.py:60: MatplotlibDeprecationWarning: savefig() got unexpected keyword argument \"bbox\" which is no longer supported as of 3.3 and will become an error two minor releases later\n",
      "//anaconda3/lib/python3.7/site-packages/ipykernel_launcher.py:60: MatplotlibDeprecationWarning: savefig() got unexpected keyword argument \"rasterize\" which is no longer supported as of 3.3 and will become an error two minor releases later\n",
      "//anaconda3/lib/python3.7/site-packages/ipykernel_launcher.py:60: MatplotlibDeprecationWarning: savefig() got unexpected keyword argument \"bbox\" which is no longer supported as of 3.3 and will become an error two minor releases later\n",
      "//anaconda3/lib/python3.7/site-packages/ipykernel_launcher.py:60: MatplotlibDeprecationWarning: savefig() got unexpected keyword argument \"rasterize\" which is no longer supported as of 3.3 and will become an error two minor releases later\n",
      "//anaconda3/lib/python3.7/site-packages/ipykernel_launcher.py:60: MatplotlibDeprecationWarning: savefig() got unexpected keyword argument \"bbox\" which is no longer supported as of 3.3 and will become an error two minor releases later\n",
      "//anaconda3/lib/python3.7/site-packages/ipykernel_launcher.py:60: MatplotlibDeprecationWarning: savefig() got unexpected keyword argument \"rasterize\" which is no longer supported as of 3.3 and will become an error two minor releases later\n",
      "//anaconda3/lib/python3.7/site-packages/ipykernel_launcher.py:60: MatplotlibDeprecationWarning: savefig() got unexpected keyword argument \"bbox\" which is no longer supported as of 3.3 and will become an error two minor releases later\n",
      "//anaconda3/lib/python3.7/site-packages/ipykernel_launcher.py:60: MatplotlibDeprecationWarning: savefig() got unexpected keyword argument \"rasterize\" which is no longer supported as of 3.3 and will become an error two minor releases later\n",
      "//anaconda3/lib/python3.7/site-packages/ipykernel_launcher.py:60: MatplotlibDeprecationWarning: savefig() got unexpected keyword argument \"bbox\" which is no longer supported as of 3.3 and will become an error two minor releases later\n",
      "//anaconda3/lib/python3.7/site-packages/ipykernel_launcher.py:60: MatplotlibDeprecationWarning: savefig() got unexpected keyword argument \"rasterize\" which is no longer supported as of 3.3 and will become an error two minor releases later\n",
      "//anaconda3/lib/python3.7/site-packages/ipykernel_launcher.py:60: MatplotlibDeprecationWarning: savefig() got unexpected keyword argument \"bbox\" which is no longer supported as of 3.3 and will become an error two minor releases later\n",
      "//anaconda3/lib/python3.7/site-packages/ipykernel_launcher.py:60: MatplotlibDeprecationWarning: savefig() got unexpected keyword argument \"rasterize\" which is no longer supported as of 3.3 and will become an error two minor releases later\n",
      "//anaconda3/lib/python3.7/site-packages/ipykernel_launcher.py:60: MatplotlibDeprecationWarning: savefig() got unexpected keyword argument \"bbox\" which is no longer supported as of 3.3 and will become an error two minor releases later\n",
      "//anaconda3/lib/python3.7/site-packages/ipykernel_launcher.py:60: MatplotlibDeprecationWarning: savefig() got unexpected keyword argument \"rasterize\" which is no longer supported as of 3.3 and will become an error two minor releases later\n",
      "//anaconda3/lib/python3.7/site-packages/ipykernel_launcher.py:60: MatplotlibDeprecationWarning: savefig() got unexpected keyword argument \"bbox\" which is no longer supported as of 3.3 and will become an error two minor releases later\n",
      "//anaconda3/lib/python3.7/site-packages/ipykernel_launcher.py:60: MatplotlibDeprecationWarning: savefig() got unexpected keyword argument \"rasterize\" which is no longer supported as of 3.3 and will become an error two minor releases later\n",
      "//anaconda3/lib/python3.7/site-packages/ipykernel_launcher.py:60: MatplotlibDeprecationWarning: savefig() got unexpected keyword argument \"bbox\" which is no longer supported as of 3.3 and will become an error two minor releases later\n",
      "//anaconda3/lib/python3.7/site-packages/ipykernel_launcher.py:60: MatplotlibDeprecationWarning: savefig() got unexpected keyword argument \"rasterize\" which is no longer supported as of 3.3 and will become an error two minor releases later\n",
      "//anaconda3/lib/python3.7/site-packages/ipykernel_launcher.py:60: MatplotlibDeprecationWarning: savefig() got unexpected keyword argument \"bbox\" which is no longer supported as of 3.3 and will become an error two minor releases later\n",
      "//anaconda3/lib/python3.7/site-packages/ipykernel_launcher.py:60: MatplotlibDeprecationWarning: savefig() got unexpected keyword argument \"rasterize\" which is no longer supported as of 3.3 and will become an error two minor releases later\n",
      "//anaconda3/lib/python3.7/site-packages/ipykernel_launcher.py:60: MatplotlibDeprecationWarning: savefig() got unexpected keyword argument \"bbox\" which is no longer supported as of 3.3 and will become an error two minor releases later\n",
      "//anaconda3/lib/python3.7/site-packages/ipykernel_launcher.py:60: MatplotlibDeprecationWarning: savefig() got unexpected keyword argument \"rasterize\" which is no longer supported as of 3.3 and will become an error two minor releases later\n",
      "//anaconda3/lib/python3.7/site-packages/ipykernel_launcher.py:60: MatplotlibDeprecationWarning: savefig() got unexpected keyword argument \"bbox\" which is no longer supported as of 3.3 and will become an error two minor releases later\n",
      "//anaconda3/lib/python3.7/site-packages/ipykernel_launcher.py:60: MatplotlibDeprecationWarning: savefig() got unexpected keyword argument \"rasterize\" which is no longer supported as of 3.3 and will become an error two minor releases later\n",
      "//anaconda3/lib/python3.7/site-packages/ipykernel_launcher.py:60: MatplotlibDeprecationWarning: savefig() got unexpected keyword argument \"bbox\" which is no longer supported as of 3.3 and will become an error two minor releases later\n",
      "//anaconda3/lib/python3.7/site-packages/ipykernel_launcher.py:60: MatplotlibDeprecationWarning: savefig() got unexpected keyword argument \"rasterize\" which is no longer supported as of 3.3 and will become an error two minor releases later\n",
      "//anaconda3/lib/python3.7/site-packages/ipykernel_launcher.py:60: MatplotlibDeprecationWarning: savefig() got unexpected keyword argument \"bbox\" which is no longer supported as of 3.3 and will become an error two minor releases later\n",
      "//anaconda3/lib/python3.7/site-packages/ipykernel_launcher.py:60: MatplotlibDeprecationWarning: savefig() got unexpected keyword argument \"rasterize\" which is no longer supported as of 3.3 and will become an error two minor releases later\n",
      "//anaconda3/lib/python3.7/site-packages/ipykernel_launcher.py:60: MatplotlibDeprecationWarning: savefig() got unexpected keyword argument \"bbox\" which is no longer supported as of 3.3 and will become an error two minor releases later\n",
      "//anaconda3/lib/python3.7/site-packages/ipykernel_launcher.py:60: MatplotlibDeprecationWarning: savefig() got unexpected keyword argument \"rasterize\" which is no longer supported as of 3.3 and will become an error two minor releases later\n",
      "//anaconda3/lib/python3.7/site-packages/ipykernel_launcher.py:60: MatplotlibDeprecationWarning: savefig() got unexpected keyword argument \"bbox\" which is no longer supported as of 3.3 and will become an error two minor releases later\n",
      "//anaconda3/lib/python3.7/site-packages/ipykernel_launcher.py:60: MatplotlibDeprecationWarning: savefig() got unexpected keyword argument \"rasterize\" which is no longer supported as of 3.3 and will become an error two minor releases later\n",
      "//anaconda3/lib/python3.7/site-packages/ipykernel_launcher.py:60: MatplotlibDeprecationWarning: savefig() got unexpected keyword argument \"bbox\" which is no longer supported as of 3.3 and will become an error two minor releases later\n",
      "//anaconda3/lib/python3.7/site-packages/ipykernel_launcher.py:60: MatplotlibDeprecationWarning: savefig() got unexpected keyword argument \"rasterize\" which is no longer supported as of 3.3 and will become an error two minor releases later\n",
      "//anaconda3/lib/python3.7/site-packages/ipykernel_launcher.py:60: MatplotlibDeprecationWarning: savefig() got unexpected keyword argument \"bbox\" which is no longer supported as of 3.3 and will become an error two minor releases later\n"
     ]
    },
    {
     "name": "stderr",
     "output_type": "stream",
     "text": [
      "//anaconda3/lib/python3.7/site-packages/ipykernel_launcher.py:60: MatplotlibDeprecationWarning: savefig() got unexpected keyword argument \"rasterize\" which is no longer supported as of 3.3 and will become an error two minor releases later\n",
      "//anaconda3/lib/python3.7/site-packages/ipykernel_launcher.py:60: MatplotlibDeprecationWarning: savefig() got unexpected keyword argument \"bbox\" which is no longer supported as of 3.3 and will become an error two minor releases later\n",
      "//anaconda3/lib/python3.7/site-packages/ipykernel_launcher.py:60: MatplotlibDeprecationWarning: savefig() got unexpected keyword argument \"rasterize\" which is no longer supported as of 3.3 and will become an error two minor releases later\n",
      "//anaconda3/lib/python3.7/site-packages/ipykernel_launcher.py:60: MatplotlibDeprecationWarning: savefig() got unexpected keyword argument \"bbox\" which is no longer supported as of 3.3 and will become an error two minor releases later\n",
      "//anaconda3/lib/python3.7/site-packages/ipykernel_launcher.py:60: MatplotlibDeprecationWarning: savefig() got unexpected keyword argument \"rasterize\" which is no longer supported as of 3.3 and will become an error two minor releases later\n",
      "//anaconda3/lib/python3.7/site-packages/ipykernel_launcher.py:60: MatplotlibDeprecationWarning: savefig() got unexpected keyword argument \"bbox\" which is no longer supported as of 3.3 and will become an error two minor releases later\n",
      "//anaconda3/lib/python3.7/site-packages/ipykernel_launcher.py:60: MatplotlibDeprecationWarning: savefig() got unexpected keyword argument \"rasterize\" which is no longer supported as of 3.3 and will become an error two minor releases later\n",
      "//anaconda3/lib/python3.7/site-packages/ipykernel_launcher.py:60: MatplotlibDeprecationWarning: savefig() got unexpected keyword argument \"bbox\" which is no longer supported as of 3.3 and will become an error two minor releases later\n",
      "//anaconda3/lib/python3.7/site-packages/ipykernel_launcher.py:60: MatplotlibDeprecationWarning: savefig() got unexpected keyword argument \"rasterize\" which is no longer supported as of 3.3 and will become an error two minor releases later\n",
      "//anaconda3/lib/python3.7/site-packages/ipykernel_launcher.py:60: MatplotlibDeprecationWarning: savefig() got unexpected keyword argument \"bbox\" which is no longer supported as of 3.3 and will become an error two minor releases later\n",
      "//anaconda3/lib/python3.7/site-packages/ipykernel_launcher.py:60: MatplotlibDeprecationWarning: savefig() got unexpected keyword argument \"rasterize\" which is no longer supported as of 3.3 and will become an error two minor releases later\n",
      "//anaconda3/lib/python3.7/site-packages/ipykernel_launcher.py:60: MatplotlibDeprecationWarning: savefig() got unexpected keyword argument \"bbox\" which is no longer supported as of 3.3 and will become an error two minor releases later\n",
      "//anaconda3/lib/python3.7/site-packages/ipykernel_launcher.py:60: MatplotlibDeprecationWarning: savefig() got unexpected keyword argument \"rasterize\" which is no longer supported as of 3.3 and will become an error two minor releases later\n",
      "//anaconda3/lib/python3.7/site-packages/ipykernel_launcher.py:60: MatplotlibDeprecationWarning: savefig() got unexpected keyword argument \"bbox\" which is no longer supported as of 3.3 and will become an error two minor releases later\n",
      "//anaconda3/lib/python3.7/site-packages/ipykernel_launcher.py:60: MatplotlibDeprecationWarning: savefig() got unexpected keyword argument \"rasterize\" which is no longer supported as of 3.3 and will become an error two minor releases later\n",
      "//anaconda3/lib/python3.7/site-packages/ipykernel_launcher.py:60: MatplotlibDeprecationWarning: savefig() got unexpected keyword argument \"bbox\" which is no longer supported as of 3.3 and will become an error two minor releases later\n",
      "//anaconda3/lib/python3.7/site-packages/ipykernel_launcher.py:60: MatplotlibDeprecationWarning: savefig() got unexpected keyword argument \"rasterize\" which is no longer supported as of 3.3 and will become an error two minor releases later\n",
      "//anaconda3/lib/python3.7/site-packages/ipykernel_launcher.py:60: MatplotlibDeprecationWarning: savefig() got unexpected keyword argument \"bbox\" which is no longer supported as of 3.3 and will become an error two minor releases later\n",
      "//anaconda3/lib/python3.7/site-packages/ipykernel_launcher.py:60: MatplotlibDeprecationWarning: savefig() got unexpected keyword argument \"rasterize\" which is no longer supported as of 3.3 and will become an error two minor releases later\n",
      "//anaconda3/lib/python3.7/site-packages/ipykernel_launcher.py:60: MatplotlibDeprecationWarning: savefig() got unexpected keyword argument \"bbox\" which is no longer supported as of 3.3 and will become an error two minor releases later\n",
      "//anaconda3/lib/python3.7/site-packages/ipykernel_launcher.py:60: MatplotlibDeprecationWarning: savefig() got unexpected keyword argument \"rasterize\" which is no longer supported as of 3.3 and will become an error two minor releases later\n",
      "//anaconda3/lib/python3.7/site-packages/ipykernel_launcher.py:60: MatplotlibDeprecationWarning: savefig() got unexpected keyword argument \"bbox\" which is no longer supported as of 3.3 and will become an error two minor releases later\n",
      "//anaconda3/lib/python3.7/site-packages/ipykernel_launcher.py:60: MatplotlibDeprecationWarning: savefig() got unexpected keyword argument \"rasterize\" which is no longer supported as of 3.3 and will become an error two minor releases later\n",
      "//anaconda3/lib/python3.7/site-packages/ipykernel_launcher.py:60: MatplotlibDeprecationWarning: savefig() got unexpected keyword argument \"bbox\" which is no longer supported as of 3.3 and will become an error two minor releases later\n",
      "//anaconda3/lib/python3.7/site-packages/ipykernel_launcher.py:60: MatplotlibDeprecationWarning: savefig() got unexpected keyword argument \"rasterize\" which is no longer supported as of 3.3 and will become an error two minor releases later\n",
      "//anaconda3/lib/python3.7/site-packages/ipykernel_launcher.py:60: MatplotlibDeprecationWarning: savefig() got unexpected keyword argument \"bbox\" which is no longer supported as of 3.3 and will become an error two minor releases later\n",
      "//anaconda3/lib/python3.7/site-packages/ipykernel_launcher.py:60: MatplotlibDeprecationWarning: savefig() got unexpected keyword argument \"rasterize\" which is no longer supported as of 3.3 and will become an error two minor releases later\n",
      "//anaconda3/lib/python3.7/site-packages/ipykernel_launcher.py:60: MatplotlibDeprecationWarning: savefig() got unexpected keyword argument \"bbox\" which is no longer supported as of 3.3 and will become an error two minor releases later\n",
      "//anaconda3/lib/python3.7/site-packages/ipykernel_launcher.py:60: MatplotlibDeprecationWarning: savefig() got unexpected keyword argument \"rasterize\" which is no longer supported as of 3.3 and will become an error two minor releases later\n",
      "//anaconda3/lib/python3.7/site-packages/ipykernel_launcher.py:60: MatplotlibDeprecationWarning: savefig() got unexpected keyword argument \"bbox\" which is no longer supported as of 3.3 and will become an error two minor releases later\n",
      "//anaconda3/lib/python3.7/site-packages/ipykernel_launcher.py:60: MatplotlibDeprecationWarning: savefig() got unexpected keyword argument \"rasterize\" which is no longer supported as of 3.3 and will become an error two minor releases later\n",
      "//anaconda3/lib/python3.7/site-packages/ipykernel_launcher.py:60: MatplotlibDeprecationWarning: savefig() got unexpected keyword argument \"bbox\" which is no longer supported as of 3.3 and will become an error two minor releases later\n",
      "//anaconda3/lib/python3.7/site-packages/ipykernel_launcher.py:60: MatplotlibDeprecationWarning: savefig() got unexpected keyword argument \"rasterize\" which is no longer supported as of 3.3 and will become an error two minor releases later\n",
      "//anaconda3/lib/python3.7/site-packages/ipykernel_launcher.py:60: MatplotlibDeprecationWarning: savefig() got unexpected keyword argument \"bbox\" which is no longer supported as of 3.3 and will become an error two minor releases later\n"
     ]
    }
   ],
   "source": [
    "winterp = interp1d(np.arange(0,len(x),1), x)\n",
    "\n",
    "for i in range(len(time)):\n",
    "\n",
    "    fig = plt.figure(constrained_layout=True, figsize=(14,4))\n",
    "    gs = fig.add_gridspec(1,3)\n",
    "    fig.set_facecolor('#0E0E0E')\n",
    "    ax1 = fig.add_subplot(gs[0, 0])\n",
    "    ax2 = fig.add_subplot(gs[0, 1])\n",
    "    ax3 = fig.add_subplot(gs[0, 2])\n",
    "\n",
    "    ax1.imshow(grid, cmap=cm)\n",
    "    if i >= planet_steps[0] and i <= planet_steps[-1]:\n",
    "        ax1.imshow(planet_masked[i-5], cmap='Greys')\n",
    "    \n",
    "    ax1.spines['right'].set_visible(False)\n",
    "    ax1.spines['top'].set_visible(False)\n",
    "    ax2.spines['right'].set_visible(False)\n",
    "    ax2.spines['top'].set_visible(False)\n",
    "    ax1.spines['bottom'].set_visible(False)\n",
    "    ax1.spines['left'].set_visible(False)\n",
    "    ax1.set_xticks([]); ax1.set_yticks([])   \n",
    "\n",
    "    \n",
    "    \n",
    "    if i >= planet_steps[0] and i <= planet_steps[-1]:\n",
    "        waterfall, _ = expanding_bins(linemodels[:i+1], 8, med=linemodels[0])\n",
    "        xr, yr = np.where(waterfall==0)\n",
    "        waterfall[xr,yr] = np.nan\n",
    "\n",
    "        ax3.imshow(waterfall_bkg, origin='lower', cmap=cm_paper)\n",
    "        im = ax3.imshow(waterfall, origin='lower', cmap=cm_paper)\n",
    "        \n",
    "        ax2.plot(x, linemodels[i], COLOR, lw=4)\n",
    "    else:\n",
    "        ax2.plot(x, upside_down_gauss(x, 656.3, 0.2, 0.5), \n",
    "                 COLOR, lw=4)\n",
    "        waterfall, _ = expanding_bins(linemodels, 8, subtract=False)#med=linemodels[0])\n",
    "        xr, yr = np.where(waterfall==0)\n",
    "        waterfall[xr,yr] = np.nan\n",
    "        im = ax3.imshow(waterfall, origin='lower', cmap=cm_paper,\n",
    "                       vmin=-1, vmax=0)\n",
    "        \n",
    "    ax3.set_yticks([])\n",
    "    cbar = plt.colorbar(im)\n",
    "    cbar.set_ticks([])\n",
    "    cbar.set_label('Fractional Deviation', x=1.1)\n",
    "    ticks = [350,500,650]\n",
    "    ax3.set_xticks(ticks)\n",
    "    ax3.set_xticklabels(np.round(winterp(ticks),2))\n",
    "    ax2.set_xticks(np.linspace(x[0], x[-1], 5))\n",
    "    \n",
    "    ax2.set_xlabel('Wavelength [nm]', fontsize=22)\n",
    "    ax3.set_xlabel('Wavelength [nm]', fontsize=22)\n",
    "    ax2.set_yticks([])\n",
    "\n",
    "    ax3.set_xlim(300,700)\n",
    "    \n",
    "    plt.savefig(os.path.join(plotdir, 'figure_{0:02d}.png'.format(i)),\n",
    "                rasterize=True, bbox='tight', dpi=300)\n",
    "    plt.close()"
   ]
  },
  {
   "cell_type": "code",
   "execution_count": 550,
   "metadata": {},
   "outputs": [],
   "source": [
    "filenames = np.sort([os.path.join(plotdir, i) for i in os.listdir(plotdir)])"
   ]
  },
  {
   "cell_type": "code",
   "execution_count": 551,
   "metadata": {},
   "outputs": [
    {
     "data": {
      "text/plain": [
       "array(['/Users/arcticfox/Documents/atmospheres/v1298tau/misttborn/longanim/figure_00.png',\n",
       "       '/Users/arcticfox/Documents/atmospheres/v1298tau/misttborn/longanim/figure_01.png',\n",
       "       '/Users/arcticfox/Documents/atmospheres/v1298tau/misttborn/longanim/figure_02.png',\n",
       "       '/Users/arcticfox/Documents/atmospheres/v1298tau/misttborn/longanim/figure_03.png',\n",
       "       '/Users/arcticfox/Documents/atmospheres/v1298tau/misttborn/longanim/figure_04.png',\n",
       "       '/Users/arcticfox/Documents/atmospheres/v1298tau/misttborn/longanim/figure_05.png',\n",
       "       '/Users/arcticfox/Documents/atmospheres/v1298tau/misttborn/longanim/figure_06.png',\n",
       "       '/Users/arcticfox/Documents/atmospheres/v1298tau/misttborn/longanim/figure_07.png',\n",
       "       '/Users/arcticfox/Documents/atmospheres/v1298tau/misttborn/longanim/figure_08.png',\n",
       "       '/Users/arcticfox/Documents/atmospheres/v1298tau/misttborn/longanim/figure_09.png',\n",
       "       '/Users/arcticfox/Documents/atmospheres/v1298tau/misttborn/longanim/figure_10.png',\n",
       "       '/Users/arcticfox/Documents/atmospheres/v1298tau/misttborn/longanim/figure_11.png',\n",
       "       '/Users/arcticfox/Documents/atmospheres/v1298tau/misttborn/longanim/figure_12.png',\n",
       "       '/Users/arcticfox/Documents/atmospheres/v1298tau/misttborn/longanim/figure_13.png',\n",
       "       '/Users/arcticfox/Documents/atmospheres/v1298tau/misttborn/longanim/figure_14.png',\n",
       "       '/Users/arcticfox/Documents/atmospheres/v1298tau/misttborn/longanim/figure_15.png',\n",
       "       '/Users/arcticfox/Documents/atmospheres/v1298tau/misttborn/longanim/figure_16.png',\n",
       "       '/Users/arcticfox/Documents/atmospheres/v1298tau/misttborn/longanim/figure_17.png',\n",
       "       '/Users/arcticfox/Documents/atmospheres/v1298tau/misttborn/longanim/figure_18.png',\n",
       "       '/Users/arcticfox/Documents/atmospheres/v1298tau/misttborn/longanim/figure_19.png',\n",
       "       '/Users/arcticfox/Documents/atmospheres/v1298tau/misttborn/longanim/figure_20.png',\n",
       "       '/Users/arcticfox/Documents/atmospheres/v1298tau/misttborn/longanim/figure_21.png',\n",
       "       '/Users/arcticfox/Documents/atmospheres/v1298tau/misttborn/longanim/figure_22.png',\n",
       "       '/Users/arcticfox/Documents/atmospheres/v1298tau/misttborn/longanim/figure_23.png',\n",
       "       '/Users/arcticfox/Documents/atmospheres/v1298tau/misttborn/longanim/figure_24.png',\n",
       "       '/Users/arcticfox/Documents/atmospheres/v1298tau/misttborn/longanim/figure_25.png',\n",
       "       '/Users/arcticfox/Documents/atmospheres/v1298tau/misttborn/longanim/figure_26.png',\n",
       "       '/Users/arcticfox/Documents/atmospheres/v1298tau/misttborn/longanim/figure_27.png',\n",
       "       '/Users/arcticfox/Documents/atmospheres/v1298tau/misttborn/longanim/figure_28.png',\n",
       "       '/Users/arcticfox/Documents/atmospheres/v1298tau/misttborn/longanim/figure_29.png',\n",
       "       '/Users/arcticfox/Documents/atmospheres/v1298tau/misttborn/longanim/figure_30.png',\n",
       "       '/Users/arcticfox/Documents/atmospheres/v1298tau/misttborn/longanim/figure_31.png',\n",
       "       '/Users/arcticfox/Documents/atmospheres/v1298tau/misttborn/longanim/figure_32.png',\n",
       "       '/Users/arcticfox/Documents/atmospheres/v1298tau/misttborn/longanim/figure_33.png',\n",
       "       '/Users/arcticfox/Documents/atmospheres/v1298tau/misttborn/longanim/figure_34.png',\n",
       "       '/Users/arcticfox/Documents/atmospheres/v1298tau/misttborn/longanim/figure_35.png',\n",
       "       '/Users/arcticfox/Documents/atmospheres/v1298tau/misttborn/longanim/figure_36.png',\n",
       "       '/Users/arcticfox/Documents/atmospheres/v1298tau/misttborn/longanim/figure_37.png',\n",
       "       '/Users/arcticfox/Documents/atmospheres/v1298tau/misttborn/longanim/figure_38.png',\n",
       "       '/Users/arcticfox/Documents/atmospheres/v1298tau/misttborn/longanim/figure_39.png',\n",
       "       '/Users/arcticfox/Documents/atmospheres/v1298tau/misttborn/longanim/figure_40.png',\n",
       "       '/Users/arcticfox/Documents/atmospheres/v1298tau/misttborn/longanim/figure_41.png',\n",
       "       '/Users/arcticfox/Documents/atmospheres/v1298tau/misttborn/longanim/figure_42.png',\n",
       "       '/Users/arcticfox/Documents/atmospheres/v1298tau/misttborn/longanim/figure_43.png',\n",
       "       '/Users/arcticfox/Documents/atmospheres/v1298tau/misttborn/longanim/figure_44.png',\n",
       "       '/Users/arcticfox/Documents/atmospheres/v1298tau/misttborn/longanim/figure_45.png',\n",
       "       '/Users/arcticfox/Documents/atmospheres/v1298tau/misttborn/longanim/figure_46.png',\n",
       "       '/Users/arcticfox/Documents/atmospheres/v1298tau/misttborn/longanim/figure_47.png',\n",
       "       '/Users/arcticfox/Documents/atmospheres/v1298tau/misttborn/longanim/figure_48.png',\n",
       "       '/Users/arcticfox/Documents/atmospheres/v1298tau/misttborn/longanim/figure_49.png',\n",
       "       '/Users/arcticfox/Documents/atmospheres/v1298tau/misttborn/longanim/figure_50.png',\n",
       "       '/Users/arcticfox/Documents/atmospheres/v1298tau/misttborn/longanim/figure_51.png',\n",
       "       '/Users/arcticfox/Documents/atmospheres/v1298tau/misttborn/longanim/figure_52.png'],\n",
       "      dtype='<U80')"
      ]
     },
     "execution_count": 551,
     "metadata": {},
     "output_type": "execute_result"
    }
   ],
   "source": [
    "filenames"
   ]
  },
  {
   "cell_type": "code",
   "execution_count": null,
   "metadata": {},
   "outputs": [],
   "source": [
    "with imageio.get_writer('dt_example_long.gif', mode='I') as writer:\n",
    "    for filename in filenames:\n",
    "        image = imageio.imread(filename)\n",
    "        writer.append_data(image)"
   ]
  },
  {
   "cell_type": "code",
   "execution_count": null,
   "metadata": {},
   "outputs": [],
   "source": []
  }
 ],
 "metadata": {
  "kernelspec": {
   "display_name": "Python 3",
   "language": "python",
   "name": "python3"
  },
  "language_info": {
   "codemirror_mode": {
    "name": "ipython",
    "version": 3
   },
   "file_extension": ".py",
   "mimetype": "text/x-python",
   "name": "python",
   "nbconvert_exporter": "python",
   "pygments_lexer": "ipython3",
   "version": "3.7.3"
  }
 },
 "nbformat": 4,
 "nbformat_minor": 2
}
